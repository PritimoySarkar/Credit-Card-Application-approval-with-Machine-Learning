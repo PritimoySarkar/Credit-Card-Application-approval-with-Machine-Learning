{
 "cells": [
  {
   "cell_type": "code",
   "execution_count": 1,
   "metadata": {},
   "outputs": [],
   "source": [
    "import pandas as p\n",
    "import numpy as n"
   ]
  },
  {
   "cell_type": "code",
   "execution_count": 2,
   "metadata": {},
   "outputs": [
    {
     "name": "stdout",
     "output_type": "stream",
     "text": [
      "(10000, 12)\n"
     ]
    }
   ],
   "source": [
    "df=p.read_csv('Credit card Approval.csv')\n",
    "print(df.shape)"
   ]
  },
  {
   "cell_type": "code",
   "execution_count": 3,
   "metadata": {},
   "outputs": [
    {
     "name": "stdout",
     "output_type": "stream",
     "text": [
      "<class 'pandas.core.frame.DataFrame'>\n",
      "RangeIndex: 10000 entries, 0 to 9999\n",
      "Data columns (total 12 columns):\n",
      "customer_id          10000 non-null int64\n",
      "demographic_slice    10000 non-null object\n",
      "country_reg          10000 non-null object\n",
      "ad_exp               10000 non-null object\n",
      "est_income           10000 non-null float64\n",
      "hold_bal             10000 non-null float64\n",
      "pref_cust_prob       10000 non-null float64\n",
      "imp_cscore           10000 non-null int64\n",
      "RiskScore            10000 non-null float64\n",
      "imp_crediteval       10000 non-null float64\n",
      "axio_score           10000 non-null float64\n",
      "card_offer           10000 non-null bool\n",
      "dtypes: bool(1), float64(6), int64(2), object(3)\n",
      "memory usage: 869.2+ KB\n"
     ]
    }
   ],
   "source": [
    "df.info()"
   ]
  },
  {
   "cell_type": "code",
   "execution_count": 4,
   "metadata": {},
   "outputs": [
    {
     "data": {
      "text/html": [
       "<div>\n",
       "<style scoped>\n",
       "    .dataframe tbody tr th:only-of-type {\n",
       "        vertical-align: middle;\n",
       "    }\n",
       "\n",
       "    .dataframe tbody tr th {\n",
       "        vertical-align: top;\n",
       "    }\n",
       "\n",
       "    .dataframe thead th {\n",
       "        text-align: right;\n",
       "    }\n",
       "</style>\n",
       "<table border=\"1\" class=\"dataframe\">\n",
       "  <thead>\n",
       "    <tr style=\"text-align: right;\">\n",
       "      <th></th>\n",
       "      <th>customer_id</th>\n",
       "      <th>demographic_slice</th>\n",
       "      <th>country_reg</th>\n",
       "      <th>ad_exp</th>\n",
       "      <th>est_income</th>\n",
       "      <th>hold_bal</th>\n",
       "      <th>pref_cust_prob</th>\n",
       "      <th>imp_cscore</th>\n",
       "      <th>RiskScore</th>\n",
       "      <th>imp_crediteval</th>\n",
       "      <th>axio_score</th>\n",
       "      <th>card_offer</th>\n",
       "    </tr>\n",
       "  </thead>\n",
       "  <tbody>\n",
       "    <tr>\n",
       "      <th>0</th>\n",
       "      <td>713782</td>\n",
       "      <td>AX03efs</td>\n",
       "      <td>W</td>\n",
       "      <td>N</td>\n",
       "      <td>33407.901749</td>\n",
       "      <td>3.000000</td>\n",
       "      <td>0.531112</td>\n",
       "      <td>619</td>\n",
       "      <td>503.249027</td>\n",
       "      <td>23.977827</td>\n",
       "      <td>0.137289</td>\n",
       "      <td>False</td>\n",
       "    </tr>\n",
       "    <tr>\n",
       "      <th>1</th>\n",
       "      <td>515901</td>\n",
       "      <td>AX03efs</td>\n",
       "      <td>E</td>\n",
       "      <td>N</td>\n",
       "      <td>19927.533533</td>\n",
       "      <td>20.257927</td>\n",
       "      <td>0.297439</td>\n",
       "      <td>527</td>\n",
       "      <td>820.108146</td>\n",
       "      <td>22.986398</td>\n",
       "      <td>0.052264</td>\n",
       "      <td>False</td>\n",
       "    </tr>\n",
       "    <tr>\n",
       "      <th>2</th>\n",
       "      <td>95166</td>\n",
       "      <td>AX03efs</td>\n",
       "      <td>W</td>\n",
       "      <td>Y</td>\n",
       "      <td>51222.470997</td>\n",
       "      <td>4.000000</td>\n",
       "      <td>0.018463</td>\n",
       "      <td>606</td>\n",
       "      <td>586.605795</td>\n",
       "      <td>24.939219</td>\n",
       "      <td>0.452035</td>\n",
       "      <td>False</td>\n",
       "    </tr>\n",
       "    <tr>\n",
       "      <th>3</th>\n",
       "      <td>425557</td>\n",
       "      <td>AX03efs</td>\n",
       "      <td>E</td>\n",
       "      <td>Y</td>\n",
       "      <td>67211.587467</td>\n",
       "      <td>18.653631</td>\n",
       "      <td>0.089344</td>\n",
       "      <td>585</td>\n",
       "      <td>634.701982</td>\n",
       "      <td>24.841147</td>\n",
       "      <td>0.564619</td>\n",
       "      <td>False</td>\n",
       "    </tr>\n",
       "    <tr>\n",
       "      <th>4</th>\n",
       "      <td>624581</td>\n",
       "      <td>AX03efs</td>\n",
       "      <td>W</td>\n",
       "      <td>N</td>\n",
       "      <td>20093.342158</td>\n",
       "      <td>4.000000</td>\n",
       "      <td>0.094948</td>\n",
       "      <td>567</td>\n",
       "      <td>631.949979</td>\n",
       "      <td>24.679363</td>\n",
       "      <td>0.917304</td>\n",
       "      <td>False</td>\n",
       "    </tr>\n",
       "  </tbody>\n",
       "</table>\n",
       "</div>"
      ],
      "text/plain": [
       "   customer_id demographic_slice country_reg ad_exp    est_income   hold_bal  \\\n",
       "0       713782           AX03efs           W      N  33407.901749   3.000000   \n",
       "1       515901           AX03efs           E      N  19927.533533  20.257927   \n",
       "2        95166           AX03efs           W      Y  51222.470997   4.000000   \n",
       "3       425557           AX03efs           E      Y  67211.587467  18.653631   \n",
       "4       624581           AX03efs           W      N  20093.342158   4.000000   \n",
       "\n",
       "   pref_cust_prob  imp_cscore   RiskScore  imp_crediteval  axio_score  \\\n",
       "0        0.531112         619  503.249027       23.977827    0.137289   \n",
       "1        0.297439         527  820.108146       22.986398    0.052264   \n",
       "2        0.018463         606  586.605795       24.939219    0.452035   \n",
       "3        0.089344         585  634.701982       24.841147    0.564619   \n",
       "4        0.094948         567  631.949979       24.679363    0.917304   \n",
       "\n",
       "   card_offer  \n",
       "0       False  \n",
       "1       False  \n",
       "2       False  \n",
       "3       False  \n",
       "4       False  "
      ]
     },
     "execution_count": 4,
     "metadata": {},
     "output_type": "execute_result"
    }
   ],
   "source": [
    "df.head()"
   ]
  },
  {
   "cell_type": "code",
   "execution_count": 5,
   "metadata": {},
   "outputs": [
    {
     "data": {
      "text/html": [
       "<div>\n",
       "<style scoped>\n",
       "    .dataframe tbody tr th:only-of-type {\n",
       "        vertical-align: middle;\n",
       "    }\n",
       "\n",
       "    .dataframe tbody tr th {\n",
       "        vertical-align: top;\n",
       "    }\n",
       "\n",
       "    .dataframe thead th {\n",
       "        text-align: right;\n",
       "    }\n",
       "</style>\n",
       "<table border=\"1\" class=\"dataframe\">\n",
       "  <thead>\n",
       "    <tr style=\"text-align: right;\">\n",
       "      <th></th>\n",
       "      <th>customer_id</th>\n",
       "      <th>est_income</th>\n",
       "      <th>hold_bal</th>\n",
       "      <th>pref_cust_prob</th>\n",
       "      <th>imp_cscore</th>\n",
       "      <th>RiskScore</th>\n",
       "      <th>imp_crediteval</th>\n",
       "      <th>axio_score</th>\n",
       "    </tr>\n",
       "  </thead>\n",
       "  <tbody>\n",
       "    <tr>\n",
       "      <th>count</th>\n",
       "      <td>10000.000000</td>\n",
       "      <td>10000.000000</td>\n",
       "      <td>10000.000000</td>\n",
       "      <td>10000.000000</td>\n",
       "      <td>10000.000000</td>\n",
       "      <td>10000.000000</td>\n",
       "      <td>10000.000000</td>\n",
       "      <td>10000.000000</td>\n",
       "    </tr>\n",
       "    <tr>\n",
       "      <th>mean</th>\n",
       "      <td>496819.831400</td>\n",
       "      <td>65853.355259</td>\n",
       "      <td>20.962621</td>\n",
       "      <td>0.329419</td>\n",
       "      <td>662.548800</td>\n",
       "      <td>670.042869</td>\n",
       "      <td>25.692162</td>\n",
       "      <td>0.393211</td>\n",
       "    </tr>\n",
       "    <tr>\n",
       "      <th>std</th>\n",
       "      <td>287391.314157</td>\n",
       "      <td>31093.369592</td>\n",
       "      <td>18.841121</td>\n",
       "      <td>0.223299</td>\n",
       "      <td>90.549985</td>\n",
       "      <td>89.965854</td>\n",
       "      <td>1.889274</td>\n",
       "      <td>0.288243</td>\n",
       "    </tr>\n",
       "    <tr>\n",
       "      <th>min</th>\n",
       "      <td>244.000000</td>\n",
       "      <td>2.054543</td>\n",
       "      <td>-2.140206</td>\n",
       "      <td>0.001781</td>\n",
       "      <td>500.000000</td>\n",
       "      <td>324.436647</td>\n",
       "      <td>21.363123</td>\n",
       "      <td>-0.000052</td>\n",
       "    </tr>\n",
       "    <tr>\n",
       "      <th>25%</th>\n",
       "      <td>245172.500000</td>\n",
       "      <td>39165.786086</td>\n",
       "      <td>6.150577</td>\n",
       "      <td>0.156965</td>\n",
       "      <td>600.000000</td>\n",
       "      <td>609.231181</td>\n",
       "      <td>24.295435</td>\n",
       "      <td>0.139424</td>\n",
       "    </tr>\n",
       "    <tr>\n",
       "      <th>50%</th>\n",
       "      <td>495734.000000</td>\n",
       "      <td>76903.628763</td>\n",
       "      <td>11.913366</td>\n",
       "      <td>0.272263</td>\n",
       "      <td>655.000000</td>\n",
       "      <td>669.493442</td>\n",
       "      <td>25.611903</td>\n",
       "      <td>0.337841</td>\n",
       "    </tr>\n",
       "    <tr>\n",
       "      <th>75%</th>\n",
       "      <td>745475.250000</td>\n",
       "      <td>91032.514900</td>\n",
       "      <td>32.238914</td>\n",
       "      <td>0.459890</td>\n",
       "      <td>727.000000</td>\n",
       "      <td>730.484985</td>\n",
       "      <td>27.062519</td>\n",
       "      <td>0.624886</td>\n",
       "    </tr>\n",
       "    <tr>\n",
       "      <th>max</th>\n",
       "      <td>999870.000000</td>\n",
       "      <td>150538.809704</td>\n",
       "      <td>81.759632</td>\n",
       "      <td>1.144357</td>\n",
       "      <td>849.000000</td>\n",
       "      <td>1004.497869</td>\n",
       "      <td>30.131214</td>\n",
       "      <td>1.000000</td>\n",
       "    </tr>\n",
       "  </tbody>\n",
       "</table>\n",
       "</div>"
      ],
      "text/plain": [
       "         customer_id     est_income      hold_bal  pref_cust_prob  \\\n",
       "count   10000.000000   10000.000000  10000.000000    10000.000000   \n",
       "mean   496819.831400   65853.355259     20.962621        0.329419   \n",
       "std    287391.314157   31093.369592     18.841121        0.223299   \n",
       "min       244.000000       2.054543     -2.140206        0.001781   \n",
       "25%    245172.500000   39165.786086      6.150577        0.156965   \n",
       "50%    495734.000000   76903.628763     11.913366        0.272263   \n",
       "75%    745475.250000   91032.514900     32.238914        0.459890   \n",
       "max    999870.000000  150538.809704     81.759632        1.144357   \n",
       "\n",
       "         imp_cscore     RiskScore  imp_crediteval    axio_score  \n",
       "count  10000.000000  10000.000000    10000.000000  10000.000000  \n",
       "mean     662.548800    670.042869       25.692162      0.393211  \n",
       "std       90.549985     89.965854        1.889274      0.288243  \n",
       "min      500.000000    324.436647       21.363123     -0.000052  \n",
       "25%      600.000000    609.231181       24.295435      0.139424  \n",
       "50%      655.000000    669.493442       25.611903      0.337841  \n",
       "75%      727.000000    730.484985       27.062519      0.624886  \n",
       "max      849.000000   1004.497869       30.131214      1.000000  "
      ]
     },
     "execution_count": 5,
     "metadata": {},
     "output_type": "execute_result"
    }
   ],
   "source": [
    "df.describe()"
   ]
  },
  {
   "cell_type": "code",
   "execution_count": 6,
   "metadata": {},
   "outputs": [
    {
     "data": {
      "text/plain": [
       "customer_id          10000\n",
       "demographic_slice    10000\n",
       "country_reg          10000\n",
       "ad_exp               10000\n",
       "est_income           10000\n",
       "hold_bal             10000\n",
       "pref_cust_prob       10000\n",
       "imp_cscore           10000\n",
       "RiskScore            10000\n",
       "imp_crediteval       10000\n",
       "axio_score           10000\n",
       "card_offer           10000\n",
       "dtype: int64"
      ]
     },
     "execution_count": 6,
     "metadata": {},
     "output_type": "execute_result"
    }
   ],
   "source": [
    "df.count()"
   ]
  },
  {
   "cell_type": "code",
   "execution_count": 7,
   "metadata": {},
   "outputs": [
    {
     "data": {
      "text/plain": [
       "customer_id          0\n",
       "demographic_slice    0\n",
       "country_reg          0\n",
       "ad_exp               0\n",
       "est_income           0\n",
       "hold_bal             0\n",
       "pref_cust_prob       0\n",
       "imp_cscore           0\n",
       "RiskScore            0\n",
       "imp_crediteval       0\n",
       "axio_score           0\n",
       "card_offer           0\n",
       "dtype: int64"
      ]
     },
     "execution_count": 7,
     "metadata": {},
     "output_type": "execute_result"
    }
   ],
   "source": [
    "df.isnull().sum()"
   ]
  },
  {
   "cell_type": "markdown",
   "metadata": {},
   "source": [
    "# Univariate Analysis"
   ]
  },
  {
   "cell_type": "code",
   "execution_count": 8,
   "metadata": {},
   "outputs": [
    {
     "data": {
      "text/plain": [
       "customer_id       0.019750\n",
       "est_income       -0.535274\n",
       "hold_bal          1.015113\n",
       "pref_cust_prob    0.904168\n",
       "imp_cscore        0.231556\n",
       "RiskScore         0.023744\n",
       "imp_crediteval    0.092559\n",
       "axio_score        0.451390\n",
       "card_offer        1.927062\n",
       "dtype: float64"
      ]
     },
     "execution_count": 8,
     "metadata": {},
     "output_type": "execute_result"
    }
   ],
   "source": [
    "df.skew(axis=0)"
   ]
  },
  {
   "cell_type": "code",
   "execution_count": 9,
   "metadata": {},
   "outputs": [],
   "source": [
    "import seaborn as sb\n",
    "import matplotlib.pyplot as pl\n",
    "%matplotlib inline"
   ]
  },
  {
   "cell_type": "code",
   "execution_count": 10,
   "metadata": {},
   "outputs": [
    {
     "data": {
      "image/png": "[encoded data removed]",
      "text/plain": [
       "<Figure size 432x288 with 1 Axes>"
      ]
     },
     "metadata": {
      "needs_background": "light"
     },
     "output_type": "display_data"
    }
   ],
   "source": [
    "sb.distplot(df['est_income'])\n",
    "pl.show()"
   ]
  },
  {
   "cell_type": "code",
   "execution_count": 11,
   "metadata": {},
   "outputs": [
    {
     "name": "stdout",
     "output_type": "stream",
     "text": [
      "0.6251649317995985\n"
     ]
    },
    {
     "data": {
      "image/png": "[encoded data removed]",
      "text/plain": [
       "<Figure size 432x288 with 1 Axes>"
      ]
     },
     "metadata": {
      "needs_background": "light"
     },
     "output_type": "display_data"
    }
   ],
   "source": [
    "sb.distplot((df['est_income'])**3)\n",
    "print((df['est_income']**3).skew(axis=0))\n",
    "pl.show()"
   ]
  },
  {
   "cell_type": "code",
   "execution_count": 12,
   "metadata": {},
   "outputs": [
    {
     "name": "stdout",
     "output_type": "stream",
     "text": [
      "0.056566074848827815\n"
     ]
    },
    {
     "data": {
      "image/png": "[encoded data removed]",
      "text/plain": [
       "<Figure size 432x288 with 1 Axes>"
      ]
     },
     "metadata": {
      "needs_background": "light"
     },
     "output_type": "display_data"
    }
   ],
   "source": [
    "df['est_income']=(df['est_income']**2)\n",
    "print((df['est_income']).skew(axis=0))\n",
    "sb.distplot(df['est_income'])\n",
    "pl.show()"
   ]
  },
  {
   "cell_type": "code",
   "execution_count": 13,
   "metadata": {},
   "outputs": [
    {
     "data": {
      "image/png": "[encoded data removed]",
      "text/plain": [
       "<Figure size 432x288 with 1 Axes>"
      ]
     },
     "metadata": {
      "needs_background": "light"
     },
     "output_type": "display_data"
    }
   ],
   "source": [
    "sb.boxplot(df['est_income'])\n",
    "pl.show()"
   ]
  },
  {
   "cell_type": "code",
   "execution_count": 14,
   "metadata": {},
   "outputs": [
    {
     "data": {
      "image/png": "[encoded data removed]",
      "text/plain": [
       "<Figure size 432x288 with 1 Axes>"
      ]
     },
     "metadata": {
      "needs_background": "light"
     },
     "output_type": "display_data"
    }
   ],
   "source": [
    "sb.distplot(df['hold_bal'])\n",
    "pl.show()"
   ]
  },
  {
   "cell_type": "code",
   "execution_count": 15,
   "metadata": {},
   "outputs": [
    {
     "name": "stdout",
     "output_type": "stream",
     "text": [
      "-0.08323215218111003\n"
     ]
    },
    {
     "name": "stderr",
     "output_type": "stream",
     "text": [
      "C:\\Users\\User\\Anaconda3\\lib\\site-packages\\ipykernel_launcher.py:1: RuntimeWarning: divide by zero encountered in log\n",
      "  \"\"\"Entry point for launching an IPython kernel.\n",
      "C:\\Users\\User\\Anaconda3\\lib\\site-packages\\ipykernel_launcher.py:1: RuntimeWarning: invalid value encountered in log\n",
      "  \"\"\"Entry point for launching an IPython kernel.\n"
     ]
    }
   ],
   "source": [
    "df['hold_bal']=n.log(df['hold_bal'])\n",
    "df.loc[(df.hold_bal == float('inf')) | (df.hold_bal == float('-inf')), 'hold_bal'] = n.nan\n",
    "df['hold_bal'].fillna(n.mean(df['hold_bal']),inplace=True)\n",
    "\n",
    "print((df['hold_bal']).skew(axis=0))"
   ]
  },
  {
   "cell_type": "code",
   "execution_count": 16,
   "metadata": {},
   "outputs": [
    {
     "data": {
      "image/png": "[encoded data removed]",
      "text/plain": [
       "<Figure size 432x288 with 1 Axes>"
      ]
     },
     "metadata": {
      "needs_background": "light"
     },
     "output_type": "display_data"
    }
   ],
   "source": [
    "sb.distplot(df['hold_bal'])\n",
    "pl.show()"
   ]
  },
  {
   "cell_type": "code",
   "execution_count": 17,
   "metadata": {},
   "outputs": [],
   "source": [
    "#df['hold_bal']=n.sqrt(df['hold_bal'])\n",
    "#df['hold_bal'].fillna(n.mean(df['hold_bal']),inplace=True)\n",
    "#print((df['hold_bal']).skew(axis=0))\n",
    "\n",
    "#sb.distplot(df['hold_bal'])\n",
    "#pl.show()"
   ]
  },
  {
   "cell_type": "code",
   "execution_count": 18,
   "metadata": {},
   "outputs": [
    {
     "data": {
      "image/png": "[encoded data removed]",
      "text/plain": [
       "<Figure size 432x288 with 1 Axes>"
      ]
     },
     "metadata": {
      "needs_background": "light"
     },
     "output_type": "display_data"
    }
   ],
   "source": [
    "sb.boxplot(df['hold_bal'])\n",
    "pl.show()"
   ]
  },
  {
   "cell_type": "code",
   "execution_count": 19,
   "metadata": {},
   "outputs": [
    {
     "data": {
      "image/png": "[encoded data removed]",
      "text/plain": [
       "<Figure size 432x288 with 1 Axes>"
      ]
     },
     "metadata": {
      "needs_background": "light"
     },
     "output_type": "display_data"
    }
   ],
   "source": [
    "sb.distplot(df['pref_cust_prob'])\n",
    "pl.show()"
   ]
  },
  {
   "cell_type": "code",
   "execution_count": 20,
   "metadata": {},
   "outputs": [],
   "source": [
    "#df['pref_cust_prob']=n.log(df['pref_cust_prob'])\n",
    "#sb.distplot(df['pref_cust_prob'])\n",
    "#print(df['pref_cust_prob'].skew(axis=0))\n",
    "#pl.show()"
   ]
  },
  {
   "cell_type": "code",
   "execution_count": 21,
   "metadata": {
    "scrolled": true
   },
   "outputs": [
    {
     "name": "stdout",
     "output_type": "stream",
     "text": [
      "0.24487668783970917\n"
     ]
    },
    {
     "data": {
      "text/plain": [
       "<matplotlib.axes._subplots.AxesSubplot at 0x1e7ceae5470>"
      ]
     },
     "execution_count": 21,
     "metadata": {},
     "output_type": "execute_result"
    },
    {
     "data": {
      "image/png": "[encoded data removed]",
      "text/plain": [
       "<Figure size 432x288 with 1 Axes>"
      ]
     },
     "metadata": {
      "needs_background": "light"
     },
     "output_type": "display_data"
    }
   ],
   "source": [
    "df['pref_cust_prob']=n.sqrt(df['pref_cust_prob'])\n",
    "print((df['pref_cust_prob']).skew(axis=0))\n",
    "sb.distplot(df['pref_cust_prob'])"
   ]
  },
  {
   "cell_type": "code",
   "execution_count": 22,
   "metadata": {
    "scrolled": true
   },
   "outputs": [
    {
     "data": {
      "image/png": "[encoded data removed]",
      "text/plain": [
       "<Figure size 432x288 with 1 Axes>"
      ]
     },
     "metadata": {
      "needs_background": "light"
     },
     "output_type": "display_data"
    }
   ],
   "source": [
    "sb.boxplot(df['pref_cust_prob'])\n",
    "pl.show()"
   ]
  },
  {
   "cell_type": "code",
   "execution_count": 23,
   "metadata": {},
   "outputs": [
    {
     "data": {
      "image/png": "[encoded data removed]",
      "text/plain": [
       "<Figure size 432x288 with 1 Axes>"
      ]
     },
     "metadata": {
      "needs_background": "light"
     },
     "output_type": "display_data"
    }
   ],
   "source": [
    "sb.distplot(df['imp_cscore'])\n",
    "pl.show()"
   ]
  },
  {
   "cell_type": "code",
   "execution_count": 24,
   "metadata": {},
   "outputs": [
    {
     "name": "stdout",
     "output_type": "stream",
     "text": [
      "0.11203877217994881\n"
     ]
    },
    {
     "data": {
      "image/png": "[encoded data removed]",
      "text/plain": [
       "<Figure size 432x288 with 1 Axes>"
      ]
     },
     "metadata": {
      "needs_background": "light"
     },
     "output_type": "display_data"
    }
   ],
   "source": [
    "sb.distplot(n.sqrt(df['imp_cscore']))\n",
    "print((n.sqrt(df['imp_cscore'])).skew(axis=0))\n",
    "pl.show()"
   ]
  },
  {
   "cell_type": "code",
   "execution_count": 25,
   "metadata": {},
   "outputs": [
    {
     "name": "stdout",
     "output_type": "stream",
     "text": [
      "-0.009432715044892107\n"
     ]
    },
    {
     "data": {
      "image/png": "[encoded data removed]",
      "text/plain": [
       "<Figure size 432x288 with 1 Axes>"
      ]
     },
     "metadata": {
      "needs_background": "light"
     },
     "output_type": "display_data"
    }
   ],
   "source": [
    "df['imp_cscore']=n.log(df['imp_cscore'])\n",
    "print((df['imp_cscore']).skew(axis=0))\n",
    "sb.distplot((df['imp_cscore']))\n",
    "pl.show()"
   ]
  },
  {
   "cell_type": "code",
   "execution_count": 26,
   "metadata": {},
   "outputs": [
    {
     "data": {
      "image/png": "[encoded data removed]",
      "text/plain": [
       "<Figure size 432x288 with 1 Axes>"
      ]
     },
     "metadata": {
      "needs_background": "light"
     },
     "output_type": "display_data"
    }
   ],
   "source": [
    "sb.boxplot(df['imp_cscore'])\n",
    "pl.show()"
   ]
  },
  {
   "cell_type": "code",
   "execution_count": 27,
   "metadata": {},
   "outputs": [
    {
     "data": {
      "image/png": "[encoded data removed]",
      "text/plain": [
       "<Figure size 432x288 with 1 Axes>"
      ]
     },
     "metadata": {
      "needs_background": "light"
     },
     "output_type": "display_data"
    }
   ],
   "source": [
    "sb.distplot(df['RiskScore'])\n",
    "pl.show()"
   ]
  },
  {
   "cell_type": "code",
   "execution_count": 28,
   "metadata": {},
   "outputs": [
    {
     "data": {
      "image/png": "[encoded data removed]",
      "text/plain": [
       "<Figure size 432x288 with 1 Axes>"
      ]
     },
     "metadata": {
      "needs_background": "light"
     },
     "output_type": "display_data"
    }
   ],
   "source": [
    "sb.boxplot(df['RiskScore'])\n",
    "pl.show()"
   ]
  },
  {
   "cell_type": "code",
   "execution_count": 29,
   "metadata": {},
   "outputs": [
    {
     "name": "stdout",
     "output_type": "stream",
     "text": [
      "0.09255868507235189\n"
     ]
    },
    {
     "data": {
      "image/png": "[encoded data removed]",
      "text/plain": [
       "<Figure size 432x288 with 1 Axes>"
      ]
     },
     "metadata": {
      "needs_background": "light"
     },
     "output_type": "display_data"
    }
   ],
   "source": [
    "sb.distplot(df['imp_crediteval'])\n",
    "print((df['imp_crediteval']).skew(axis=0))\n",
    "pl.show()"
   ]
  },
  {
   "cell_type": "code",
   "execution_count": 30,
   "metadata": {},
   "outputs": [
    {
     "data": {
      "image/png": "[encoded data removed]",
      "text/plain": [
       "<Figure size 432x288 with 1 Axes>"
      ]
     },
     "metadata": {
      "needs_background": "light"
     },
     "output_type": "display_data"
    }
   ],
   "source": [
    "sb.boxplot(df['imp_crediteval'])\n",
    "pl.show()"
   ]
  },
  {
   "cell_type": "code",
   "execution_count": null,
   "metadata": {},
   "outputs": [],
   "source": []
  },
  {
   "cell_type": "code",
   "execution_count": 31,
   "metadata": {},
   "outputs": [
    {
     "data": {
      "image/png": "[encoded data removed]",
      "text/plain": [
       "<Figure size 432x288 with 1 Axes>"
      ]
     },
     "metadata": {
      "needs_background": "light"
     },
     "output_type": "display_data"
    }
   ],
   "source": [
    "sb.distplot(df['axio_score'])\n",
    "pl.show()"
   ]
  },
  {
   "cell_type": "code",
   "execution_count": 32,
   "metadata": {},
   "outputs": [],
   "source": [
    "#df['axio_score']=n.log(df['axio_score'])\n",
    "#df['axio_score'].fillna(n.mean(df['axio_score']),inplace=True)\n",
    "#print((df['axio_score']).skew(axis=0))\n",
    "#sb.distplot(df['axio_score'])\n",
    "#pl.show()"
   ]
  },
  {
   "cell_type": "code",
   "execution_count": 33,
   "metadata": {},
   "outputs": [
    {
     "name": "stdout",
     "output_type": "stream",
     "text": [
      "-0.14061423775386978\n"
     ]
    },
    {
     "name": "stderr",
     "output_type": "stream",
     "text": [
      "C:\\Users\\User\\Anaconda3\\lib\\site-packages\\ipykernel_launcher.py:1: RuntimeWarning: invalid value encountered in sqrt\n",
      "  \"\"\"Entry point for launching an IPython kernel.\n"
     ]
    }
   ],
   "source": [
    "df['axio_score']=n.sqrt(df['axio_score'])\n",
    "df['axio_score'].fillna(n.mean(df['axio_score']),inplace=True)\n",
    "print((df['axio_score']).skew(axis=0))"
   ]
  },
  {
   "cell_type": "code",
   "execution_count": 34,
   "metadata": {},
   "outputs": [
    {
     "data": {
      "image/png": "[encoded data removed]",
      "text/plain": [
       "<Figure size 432x288 with 1 Axes>"
      ]
     },
     "metadata": {
      "needs_background": "light"
     },
     "output_type": "display_data"
    }
   ],
   "source": [
    "sb.distplot(df['axio_score'])\n",
    "pl.show()"
   ]
  },
  {
   "cell_type": "code",
   "execution_count": 35,
   "metadata": {},
   "outputs": [
    {
     "data": {
      "image/png": "[encoded data removed]",
      "text/plain": [
       "<Figure size 432x288 with 1 Axes>"
      ]
     },
     "metadata": {
      "needs_background": "light"
     },
     "output_type": "display_data"
    }
   ],
   "source": [
    "sb.boxplot(df['axio_score'])\n",
    "pl.show()"
   ]
  },
  {
   "cell_type": "markdown",
   "metadata": {},
   "source": [
    "## result after removing outleirs"
   ]
  },
  {
   "cell_type": "code",
   "execution_count": 36,
   "metadata": {},
   "outputs": [
    {
     "data": {
      "text/plain": [
       "customer_id       0.019750\n",
       "est_income        0.056566\n",
       "hold_bal         -0.083232\n",
       "pref_cust_prob    0.244877\n",
       "imp_cscore       -0.009433\n",
       "RiskScore         0.023744\n",
       "imp_crediteval    0.092559\n",
       "axio_score       -0.140614\n",
       "card_offer        1.927062\n",
       "dtype: float64"
      ]
     },
     "execution_count": 36,
     "metadata": {},
     "output_type": "execute_result"
    }
   ],
   "source": [
    "df.skew(axis=0)"
   ]
  },
  {
   "cell_type": "markdown",
   "metadata": {},
   "source": [
    "## Outliers Removal"
   ]
  },
  {
   "cell_type": "markdown",
   "metadata": {},
   "source": [
    "## Est_income"
   ]
  },
  {
   "cell_type": "code",
   "execution_count": 37,
   "metadata": {},
   "outputs": [
    {
     "data": {
      "image/png": "[encoded data removed]",
      "text/plain": [
       "<Figure size 432x288 with 1 Axes>"
      ]
     },
     "metadata": {
      "needs_background": "light"
     },
     "output_type": "display_data"
    }
   ],
   "source": [
    "sb.boxplot(df['est_income'])\n",
    "pl.show()"
   ]
  },
  {
   "cell_type": "code",
   "execution_count": 38,
   "metadata": {},
   "outputs": [],
   "source": [
    "q1,q3=n.percentile(df['est_income'],[25,75])\n",
    "IQR=q3-q1\n",
    "UB=q3 + 1.5*IQR\n",
    "LB=q1 - 1.5*IQR\n",
    "\n",
    "median = n.median(df['est_income'])"
   ]
  },
  {
   "cell_type": "code",
   "execution_count": 39,
   "metadata": {},
   "outputs": [
    {
     "name": "stdout",
     "output_type": "stream",
     "text": [
      "0.05\n"
     ]
    }
   ],
   "source": [
    "count=0\n",
    "for i in range (len(df['est_income'])):\n",
    "    if (df.iloc[i]['est_income']>UB) or (df.iloc[i]['est_income']<LB):\n",
    "        count=count+1\n",
    "print((count/len(df['est_income']))*100)"
   ]
  },
  {
   "cell_type": "markdown",
   "metadata": {},
   "source": [
    "## 'hold_bal'"
   ]
  },
  {
   "cell_type": "code",
   "execution_count": 40,
   "metadata": {},
   "outputs": [
    {
     "data": {
      "image/png": "[encoded data removed]",
      "text/plain": [
       "<Figure size 432x288 with 1 Axes>"
      ]
     },
     "metadata": {
      "needs_background": "light"
     },
     "output_type": "display_data"
    }
   ],
   "source": [
    "sb.boxplot(df['hold_bal'])\n",
    "pl.show()"
   ]
  },
  {
   "cell_type": "code",
   "execution_count": 41,
   "metadata": {},
   "outputs": [],
   "source": [
    "q1,q3=n.percentile(df['hold_bal'],[25,75])\n",
    "IQR=q3-q1\n",
    "UB=q3 + 1.5*IQR\n",
    "LB=q1 - 1.5*IQR\n",
    "\n",
    "median = n.median(df['hold_bal'])"
   ]
  },
  {
   "cell_type": "code",
   "execution_count": 42,
   "metadata": {},
   "outputs": [
    {
     "name": "stdout",
     "output_type": "stream",
     "text": [
      "0.04\n"
     ]
    }
   ],
   "source": [
    "count=0\n",
    "for i in range (len(df['hold_bal'])):\n",
    "    if (df.iloc[i]['hold_bal']>UB) or (df.iloc[i]['hold_bal']<LB):\n",
    "        count=count+1\n",
    "print((count/len(df['hold_bal']))*100)"
   ]
  },
  {
   "cell_type": "markdown",
   "metadata": {},
   "source": [
    "## 'RiskScore'"
   ]
  },
  {
   "cell_type": "code",
   "execution_count": 43,
   "metadata": {},
   "outputs": [
    {
     "data": {
      "image/png": "[encoded data removed]",
      "text/plain": [
       "<Figure size 432x288 with 1 Axes>"
      ]
     },
     "metadata": {
      "needs_background": "light"
     },
     "output_type": "display_data"
    }
   ],
   "source": [
    "sb.boxplot(df['RiskScore'])\n",
    "pl.show()"
   ]
  },
  {
   "cell_type": "code",
   "execution_count": 44,
   "metadata": {},
   "outputs": [],
   "source": [
    "q1,q3=n.percentile(df['RiskScore'],[25,75])\n",
    "IQR=q3-q1\n",
    "UB=q3 + 1.5*IQR\n",
    "LB=q1 - 1.5*IQR\n",
    "\n",
    "median = n.median(df['RiskScore'])"
   ]
  },
  {
   "cell_type": "code",
   "execution_count": 45,
   "metadata": {},
   "outputs": [
    {
     "name": "stdout",
     "output_type": "stream",
     "text": [
      "0.74\n"
     ]
    }
   ],
   "source": [
    "count=0\n",
    "for i in range (len(df['RiskScore'])):\n",
    "    if (df.iloc[i]['RiskScore']>UB) or (df.iloc[i]['RiskScore']<LB):\n",
    "        count=count+1\n",
    "print((count/len(df['RiskScore']))*100)"
   ]
  },
  {
   "cell_type": "markdown",
   "metadata": {},
   "source": [
    "# Output Feature Conversion"
   ]
  },
  {
   "cell_type": "code",
   "execution_count": 46,
   "metadata": {},
   "outputs": [
    {
     "data": {
      "text/html": [
       "<div>\n",
       "<style scoped>\n",
       "    .dataframe tbody tr th:only-of-type {\n",
       "        vertical-align: middle;\n",
       "    }\n",
       "\n",
       "    .dataframe tbody tr th {\n",
       "        vertical-align: top;\n",
       "    }\n",
       "\n",
       "    .dataframe thead th {\n",
       "        text-align: right;\n",
       "    }\n",
       "</style>\n",
       "<table border=\"1\" class=\"dataframe\">\n",
       "  <thead>\n",
       "    <tr style=\"text-align: right;\">\n",
       "      <th></th>\n",
       "      <th>customer_id</th>\n",
       "      <th>demographic_slice</th>\n",
       "      <th>country_reg</th>\n",
       "      <th>ad_exp</th>\n",
       "      <th>est_income</th>\n",
       "      <th>hold_bal</th>\n",
       "      <th>pref_cust_prob</th>\n",
       "      <th>imp_cscore</th>\n",
       "      <th>RiskScore</th>\n",
       "      <th>imp_crediteval</th>\n",
       "      <th>axio_score</th>\n",
       "      <th>approval</th>\n",
       "    </tr>\n",
       "  </thead>\n",
       "  <tbody>\n",
       "    <tr>\n",
       "      <th>0</th>\n",
       "      <td>713782</td>\n",
       "      <td>AX03efs</td>\n",
       "      <td>W</td>\n",
       "      <td>N</td>\n",
       "      <td>1.116088e+09</td>\n",
       "      <td>1.098612</td>\n",
       "      <td>0.728775</td>\n",
       "      <td>6.428105</td>\n",
       "      <td>503.249027</td>\n",
       "      <td>23.977827</td>\n",
       "      <td>0.370525</td>\n",
       "      <td>0</td>\n",
       "    </tr>\n",
       "    <tr>\n",
       "      <th>1</th>\n",
       "      <td>515901</td>\n",
       "      <td>AX03efs</td>\n",
       "      <td>E</td>\n",
       "      <td>N</td>\n",
       "      <td>3.971066e+08</td>\n",
       "      <td>3.008546</td>\n",
       "      <td>0.545379</td>\n",
       "      <td>6.267201</td>\n",
       "      <td>820.108146</td>\n",
       "      <td>22.986398</td>\n",
       "      <td>0.228612</td>\n",
       "      <td>0</td>\n",
       "    </tr>\n",
       "    <tr>\n",
       "      <th>2</th>\n",
       "      <td>95166</td>\n",
       "      <td>AX03efs</td>\n",
       "      <td>W</td>\n",
       "      <td>Y</td>\n",
       "      <td>2.623742e+09</td>\n",
       "      <td>1.386294</td>\n",
       "      <td>0.135879</td>\n",
       "      <td>6.406880</td>\n",
       "      <td>586.605795</td>\n",
       "      <td>24.939219</td>\n",
       "      <td>0.672335</td>\n",
       "      <td>0</td>\n",
       "    </tr>\n",
       "    <tr>\n",
       "      <th>3</th>\n",
       "      <td>425557</td>\n",
       "      <td>AX03efs</td>\n",
       "      <td>E</td>\n",
       "      <td>Y</td>\n",
       "      <td>4.517397e+09</td>\n",
       "      <td>2.926041</td>\n",
       "      <td>0.298904</td>\n",
       "      <td>6.371612</td>\n",
       "      <td>634.701982</td>\n",
       "      <td>24.841147</td>\n",
       "      <td>0.751411</td>\n",
       "      <td>0</td>\n",
       "    </tr>\n",
       "    <tr>\n",
       "      <th>4</th>\n",
       "      <td>624581</td>\n",
       "      <td>AX03efs</td>\n",
       "      <td>W</td>\n",
       "      <td>N</td>\n",
       "      <td>4.037424e+08</td>\n",
       "      <td>1.386294</td>\n",
       "      <td>0.308136</td>\n",
       "      <td>6.340359</td>\n",
       "      <td>631.949979</td>\n",
       "      <td>24.679363</td>\n",
       "      <td>0.957760</td>\n",
       "      <td>0</td>\n",
       "    </tr>\n",
       "  </tbody>\n",
       "</table>\n",
       "</div>"
      ],
      "text/plain": [
       "   customer_id demographic_slice country_reg ad_exp    est_income  hold_bal  \\\n",
       "0       713782           AX03efs           W      N  1.116088e+09  1.098612   \n",
       "1       515901           AX03efs           E      N  3.971066e+08  3.008546   \n",
       "2        95166           AX03efs           W      Y  2.623742e+09  1.386294   \n",
       "3       425557           AX03efs           E      Y  4.517397e+09  2.926041   \n",
       "4       624581           AX03efs           W      N  4.037424e+08  1.386294   \n",
       "\n",
       "   pref_cust_prob  imp_cscore   RiskScore  imp_crediteval  axio_score  \\\n",
       "0        0.728775    6.428105  503.249027       23.977827    0.370525   \n",
       "1        0.545379    6.267201  820.108146       22.986398    0.228612   \n",
       "2        0.135879    6.406880  586.605795       24.939219    0.672335   \n",
       "3        0.298904    6.371612  634.701982       24.841147    0.751411   \n",
       "4        0.308136    6.340359  631.949979       24.679363    0.957760   \n",
       "\n",
       "   approval  \n",
       "0         0  \n",
       "1         0  \n",
       "2         0  \n",
       "3         0  \n",
       "4         0  "
      ]
     },
     "execution_count": 46,
     "metadata": {},
     "output_type": "execute_result"
    }
   ],
   "source": [
    "approval=df['card_offer'].astype(int)\n",
    "df.drop(['card_offer'],axis=1,inplace=True)\n",
    "df['approval']=approval\n",
    "df.head()"
   ]
  },
  {
   "cell_type": "markdown",
   "metadata": {},
   "source": [
    "## Numeric conversion of catagorical Features"
   ]
  },
  {
   "cell_type": "code",
   "execution_count": 47,
   "metadata": {},
   "outputs": [],
   "source": [
    "#This part is written to convert the catgorical value into numerical value\n",
    "\n",
    "from sklearn.preprocessing import LabelEncoder as LE\n",
    "\n",
    "df['dg slice']=LE().fit_transform(df['demographic_slice'])\n",
    "df['country']=LE().fit_transform(df['country_reg'])\n",
    "df['ad exp']=LE().fit_transform(df['ad_exp'])"
   ]
  },
  {
   "cell_type": "code",
   "execution_count": 48,
   "metadata": {},
   "outputs": [
    {
     "data": {
      "text/html": [
       "<div>\n",
       "<style scoped>\n",
       "    .dataframe tbody tr th:only-of-type {\n",
       "        vertical-align: middle;\n",
       "    }\n",
       "\n",
       "    .dataframe tbody tr th {\n",
       "        vertical-align: top;\n",
       "    }\n",
       "\n",
       "    .dataframe thead th {\n",
       "        text-align: right;\n",
       "    }\n",
       "</style>\n",
       "<table border=\"1\" class=\"dataframe\">\n",
       "  <thead>\n",
       "    <tr style=\"text-align: right;\">\n",
       "      <th></th>\n",
       "      <th>customer_id</th>\n",
       "      <th>est_income</th>\n",
       "      <th>hold_bal</th>\n",
       "      <th>pref_cust_prob</th>\n",
       "      <th>imp_cscore</th>\n",
       "      <th>RiskScore</th>\n",
       "      <th>imp_crediteval</th>\n",
       "      <th>axio_score</th>\n",
       "      <th>approval</th>\n",
       "      <th>dg slice</th>\n",
       "      <th>country</th>\n",
       "      <th>ad exp</th>\n",
       "    </tr>\n",
       "  </thead>\n",
       "  <tbody>\n",
       "    <tr>\n",
       "      <th>0</th>\n",
       "      <td>713782</td>\n",
       "      <td>1.116088e+09</td>\n",
       "      <td>1.098612</td>\n",
       "      <td>0.728775</td>\n",
       "      <td>6.428105</td>\n",
       "      <td>503.249027</td>\n",
       "      <td>23.977827</td>\n",
       "      <td>0.370525</td>\n",
       "      <td>0</td>\n",
       "      <td>0</td>\n",
       "      <td>1</td>\n",
       "      <td>0</td>\n",
       "    </tr>\n",
       "    <tr>\n",
       "      <th>1</th>\n",
       "      <td>515901</td>\n",
       "      <td>3.971066e+08</td>\n",
       "      <td>3.008546</td>\n",
       "      <td>0.545379</td>\n",
       "      <td>6.267201</td>\n",
       "      <td>820.108146</td>\n",
       "      <td>22.986398</td>\n",
       "      <td>0.228612</td>\n",
       "      <td>0</td>\n",
       "      <td>0</td>\n",
       "      <td>0</td>\n",
       "      <td>0</td>\n",
       "    </tr>\n",
       "    <tr>\n",
       "      <th>2</th>\n",
       "      <td>95166</td>\n",
       "      <td>2.623742e+09</td>\n",
       "      <td>1.386294</td>\n",
       "      <td>0.135879</td>\n",
       "      <td>6.406880</td>\n",
       "      <td>586.605795</td>\n",
       "      <td>24.939219</td>\n",
       "      <td>0.672335</td>\n",
       "      <td>0</td>\n",
       "      <td>0</td>\n",
       "      <td>1</td>\n",
       "      <td>1</td>\n",
       "    </tr>\n",
       "    <tr>\n",
       "      <th>3</th>\n",
       "      <td>425557</td>\n",
       "      <td>4.517397e+09</td>\n",
       "      <td>2.926041</td>\n",
       "      <td>0.298904</td>\n",
       "      <td>6.371612</td>\n",
       "      <td>634.701982</td>\n",
       "      <td>24.841147</td>\n",
       "      <td>0.751411</td>\n",
       "      <td>0</td>\n",
       "      <td>0</td>\n",
       "      <td>0</td>\n",
       "      <td>1</td>\n",
       "    </tr>\n",
       "    <tr>\n",
       "      <th>4</th>\n",
       "      <td>624581</td>\n",
       "      <td>4.037424e+08</td>\n",
       "      <td>1.386294</td>\n",
       "      <td>0.308136</td>\n",
       "      <td>6.340359</td>\n",
       "      <td>631.949979</td>\n",
       "      <td>24.679363</td>\n",
       "      <td>0.957760</td>\n",
       "      <td>0</td>\n",
       "      <td>0</td>\n",
       "      <td>1</td>\n",
       "      <td>0</td>\n",
       "    </tr>\n",
       "  </tbody>\n",
       "</table>\n",
       "</div>"
      ],
      "text/plain": [
       "   customer_id    est_income  hold_bal  pref_cust_prob  imp_cscore  \\\n",
       "0       713782  1.116088e+09  1.098612        0.728775    6.428105   \n",
       "1       515901  3.971066e+08  3.008546        0.545379    6.267201   \n",
       "2        95166  2.623742e+09  1.386294        0.135879    6.406880   \n",
       "3       425557  4.517397e+09  2.926041        0.298904    6.371612   \n",
       "4       624581  4.037424e+08  1.386294        0.308136    6.340359   \n",
       "\n",
       "    RiskScore  imp_crediteval  axio_score  approval  dg slice  country  ad exp  \n",
       "0  503.249027       23.977827    0.370525         0         0        1       0  \n",
       "1  820.108146       22.986398    0.228612         0         0        0       0  \n",
       "2  586.605795       24.939219    0.672335         0         0        1       1  \n",
       "3  634.701982       24.841147    0.751411         0         0        0       1  \n",
       "4  631.949979       24.679363    0.957760         0         0        1       0  "
      ]
     },
     "execution_count": 48,
     "metadata": {},
     "output_type": "execute_result"
    }
   ],
   "source": [
    "#this cell is created to discard the columns contained catagorical values\n",
    "\n",
    "df.drop(['demographic_slice','country_reg','ad_exp'],axis=1,inplace=True)\n",
    "df.head()"
   ]
  },
  {
   "cell_type": "code",
   "execution_count": 49,
   "metadata": {
    "scrolled": true
   },
   "outputs": [],
   "source": [
    "#this cell is created to devise the columns into predictor and predicted variables\n",
    "\n",
    "x=df.drop(['approval'],axis=1)\n",
    "y=df['approval']"
   ]
  },
  {
   "cell_type": "markdown",
   "metadata": {},
   "source": [
    "# Bivariate Analysis"
   ]
  },
  {
   "cell_type": "code",
   "execution_count": 50,
   "metadata": {},
   "outputs": [
    {
     "data": {
      "image/png": "[encoded data removed]",
      "text/plain": [
       "<Figure size 1152x1152 with 2 Axes>"
      ]
     },
     "metadata": {
      "needs_background": "light"
     },
     "output_type": "display_data"
    }
   ],
   "source": [
    "pl.figure(figsize=(16,16))\n",
    "sb.heatmap(df.corr(),annot=True)\n",
    "pl.show()"
   ]
  },
  {
   "cell_type": "code",
   "execution_count": 51,
   "metadata": {},
   "outputs": [],
   "source": [
    "df=df.drop(['imp_crediteval'],axis=1)\n",
    "df=df.drop(['country'],axis=1)\n",
    "df=df.drop(['dg slice'],axis=1)"
   ]
  },
  {
   "cell_type": "code",
   "execution_count": 52,
   "metadata": {},
   "outputs": [],
   "source": [
    "from sklearn.model_selection import train_test_split as tts\n",
    "\n",
    "from sklearn.linear_model import LogisticRegression as LG\n",
    "from sklearn.tree import DecisionTreeClassifier as dtc\n",
    "from sklearn.preprocessing import StandardScaler as SC\n",
    "from sklearn.neighbors import KNeighborsClassifier as KNC\n",
    "from sklearn.naive_bayes import GaussianNB as GB\n",
    "\n",
    "from sklearn.metrics import confusion_matrix as cm\n",
    "from sklearn.metrics import accuracy_score as acc\n",
    "from sklearn.metrics import recall_score as rcc\n",
    "from sklearn.metrics import precision_score as prr\n",
    "from sklearn.metrics import classification_report as cr"
   ]
  },
  {
   "cell_type": "markdown",
   "metadata": {},
   "source": [
    "# Model Creation without upsampling or downsampling"
   ]
  },
  {
   "cell_type": "code",
   "execution_count": 53,
   "metadata": {},
   "outputs": [],
   "source": [
    "#this cell is created to devise the columns into predictor and predicted variables\n",
    "\n",
    "x=df.drop(['approval'],axis=1)\n",
    "y=df['approval']"
   ]
  },
  {
   "cell_type": "code",
   "execution_count": 54,
   "metadata": {},
   "outputs": [],
   "source": [
    "#this cell is created to split the dataset into training and testing set\n",
    "\n",
    "train_x,test_x,train_y,test_y=tts(x,y,test_size=0.3,random_state=1)"
   ]
  },
  {
   "cell_type": "markdown",
   "metadata": {},
   "source": [
    "## Logistic Regression (no resample)"
   ]
  },
  {
   "cell_type": "code",
   "execution_count": 55,
   "metadata": {},
   "outputs": [
    {
     "name": "stderr",
     "output_type": "stream",
     "text": [
      "C:\\Users\\User\\Anaconda3\\lib\\site-packages\\sklearn\\linear_model\\logistic.py:433: FutureWarning: Default solver will be changed to 'lbfgs' in 0.22. Specify a solver to silence this warning.\n",
      "  FutureWarning)\n"
     ]
    }
   ],
   "source": [
    "#this cell is created to split create the model\n",
    "\n",
    "model=LG()\n",
    "model.fit(train_x,train_y)\n",
    "predicted_approval=model.predict(test_x)"
   ]
  },
  {
   "cell_type": "code",
   "execution_count": 56,
   "metadata": {},
   "outputs": [
    {
     "name": "stdout",
     "output_type": "stream",
     "text": [
      "[[2535    0]\n",
      " [ 465    0]]\n",
      "              precision    recall  f1-score   support\n",
      "\n",
      "           0       0.84      1.00      0.92      2535\n",
      "           1       0.00      0.00      0.00       465\n",
      "\n",
      "   micro avg       0.84      0.84      0.84      3000\n",
      "   macro avg       0.42      0.50      0.46      3000\n",
      "weighted avg       0.71      0.84      0.77      3000\n",
      "\n"
     ]
    },
    {
     "name": "stderr",
     "output_type": "stream",
     "text": [
      "C:\\Users\\User\\Anaconda3\\lib\\site-packages\\sklearn\\metrics\\classification.py:1143: UndefinedMetricWarning: Precision is ill-defined and being set to 0.0 due to no predicted samples.\n",
      "  'precision', 'predicted', average, warn_for)\n",
      "C:\\Users\\User\\Anaconda3\\lib\\site-packages\\sklearn\\metrics\\classification.py:1143: UndefinedMetricWarning: Precision and F-score are ill-defined and being set to 0.0 in labels with no predicted samples.\n",
      "  'precision', 'predicted', average, warn_for)\n",
      "C:\\Users\\User\\Anaconda3\\lib\\site-packages\\sklearn\\metrics\\classification.py:1143: UndefinedMetricWarning: Precision and F-score are ill-defined and being set to 0.0 in labels with no predicted samples.\n",
      "  'precision', 'predicted', average, warn_for)\n",
      "C:\\Users\\User\\Anaconda3\\lib\\site-packages\\sklearn\\metrics\\classification.py:1143: UndefinedMetricWarning: Precision and F-score are ill-defined and being set to 0.0 in labels with no predicted samples.\n",
      "  'precision', 'predicted', average, warn_for)\n"
     ]
    }
   ],
   "source": [
    "m1=cm(test_y,predicted_approval)\n",
    "print(m1)\n",
    "\n",
    "lg0=[acc(test_y,predicted_approval)]\n",
    "lg0.append(prr(test_y,predicted_approval))\n",
    "lg0.append(rcc(test_y,predicted_approval))\n",
    "lg0.append(m1[0][0]/(m1[0][0]+m1[0][1])) #TPR\n",
    "lg0.append(m1[1][1]/(m1[1][1]+m1[1][0])) #TNR\n",
    "lg0.append(m1[1][0]/(m1[1][1]+m1[1][0])) #FPR\n",
    "lg0.append(m1[0][1]/(m1[0][0]+m1[0][1])) #FNR\n",
    "\n",
    "print(cr(test_y,predicted_approval))"
   ]
  },
  {
   "cell_type": "markdown",
   "metadata": {},
   "source": [
    "## Imballanced output feature"
   ]
  },
  {
   "cell_type": "code",
   "execution_count": 57,
   "metadata": {
    "scrolled": true
   },
   "outputs": [
    {
     "data": {
      "image/png": "[encoded data removed]",
      "text/plain": [
       "<Figure size 432x288 with 1 Axes>"
      ]
     },
     "metadata": {
      "needs_background": "light"
     },
     "output_type": "display_data"
    }
   ],
   "source": [
    "sb.countplot(df['approval'])\n",
    "pl.show()"
   ]
  },
  {
   "cell_type": "markdown",
   "metadata": {},
   "source": [
    "## Imballanced output feature in training dataset"
   ]
  },
  {
   "cell_type": "code",
   "execution_count": 58,
   "metadata": {},
   "outputs": [
    {
     "data": {
      "image/png": "[encoded data removed]",
      "text/plain": [
       "<Figure size 432x288 with 1 Axes>"
      ]
     },
     "metadata": {
      "needs_background": "light"
     },
     "output_type": "display_data"
    }
   ],
   "source": [
    "sb.countplot(train_y)\n",
    "pl.show()"
   ]
  },
  {
   "cell_type": "markdown",
   "metadata": {},
   "source": [
    "## Imballanced output feature in testing dataset"
   ]
  },
  {
   "cell_type": "code",
   "execution_count": 59,
   "metadata": {},
   "outputs": [
    {
     "data": {
      "image/png": "[encoded data removed]",
      "text/plain": [
       "<Figure size 432x288 with 1 Axes>"
      ]
     },
     "metadata": {
      "needs_background": "light"
     },
     "output_type": "display_data"
    }
   ],
   "source": [
    "sb.countplot(test_y)\n",
    "pl.show()"
   ]
  },
  {
   "cell_type": "markdown",
   "metadata": {},
   "source": [
    "## Biased prediction"
   ]
  },
  {
   "cell_type": "code",
   "execution_count": 60,
   "metadata": {},
   "outputs": [
    {
     "data": {
      "image/png": "[encoded data removed]",
      "text/plain": [
       "<Figure size 432x288 with 1 Axes>"
      ]
     },
     "metadata": {
      "needs_background": "light"
     },
     "output_type": "display_data"
    }
   ],
   "source": [
    "sb.countplot(predicted_approval)\n",
    "pl.show()"
   ]
  },
  {
   "cell_type": "code",
   "execution_count": 61,
   "metadata": {},
   "outputs": [
    {
     "data": {
      "text/plain": [
       "0    8469\n",
       "1    1531\n",
       "Name: approval, dtype: int64"
      ]
     },
     "execution_count": 61,
     "metadata": {},
     "output_type": "execute_result"
    }
   ],
   "source": [
    "df['approval'].value_counts()"
   ]
  },
  {
   "cell_type": "markdown",
   "metadata": {},
   "source": [
    "## Decision tree (no resample)"
   ]
  },
  {
   "cell_type": "code",
   "execution_count": 62,
   "metadata": {},
   "outputs": [
    {
     "name": "stdout",
     "output_type": "stream",
     "text": [
      "[[2487   48]\n",
      " [  65  400]]\n",
      "0.9623333333333334\n",
      "              precision    recall  f1-score   support\n",
      "\n",
      "           0       0.97      0.98      0.98      2535\n",
      "           1       0.89      0.86      0.88       465\n",
      "\n",
      "   micro avg       0.96      0.96      0.96      3000\n",
      "   macro avg       0.93      0.92      0.93      3000\n",
      "weighted avg       0.96      0.96      0.96      3000\n",
      "\n"
     ]
    }
   ],
   "source": [
    "entropy=dtc(criterion='entropy',random_state=1)\n",
    "entropy.fit(train_x,train_y)\n",
    "predict_y=entropy.predict(test_x)\n",
    "m2=cm(test_y,predict_y)\n",
    "print(m2)\n",
    "\n",
    "lt0=[acc(test_y,predict_y)]\n",
    "lt0.append(prr(test_y,predict_y))\n",
    "lt0.append(rcc(test_y,predict_y))\n",
    "lt0.append(m2[0][0]/(m2[0][0]+m2[0][1])) #TPR\n",
    "lt0.append(m2[1][1]/(m2[1][1]+m2[1][0])) #TNR\n",
    "lt0.append(m2[1][0]/(m2[1][1]+m2[1][0])) #FPR\n",
    "lt0.append(m2[0][1]/(m2[0][0]+m2[0][1])) #FNR\n",
    "\n",
    "\n",
    "print(acc(test_y,predict_y))\n",
    "print(cr(test_y,predict_y))"
   ]
  },
  {
   "cell_type": "code",
   "execution_count": 63,
   "metadata": {},
   "outputs": [
    {
     "data": {
      "text/plain": [
       "<matplotlib.axes._subplots.AxesSubplot at 0x1e7cec44dd8>"
      ]
     },
     "execution_count": 63,
     "metadata": {},
     "output_type": "execute_result"
    },
    {
     "data": {
      "image/png": "[encoded data removed]",
      "text/plain": [
       "<Figure size 432x288 with 1 Axes>"
      ]
     },
     "metadata": {
      "needs_background": "light"
     },
     "output_type": "display_data"
    }
   ],
   "source": [
    "sb.countplot(test_y)"
   ]
  },
  {
   "cell_type": "code",
   "execution_count": 64,
   "metadata": {},
   "outputs": [
    {
     "data": {
      "text/plain": [
       "<matplotlib.axes._subplots.AxesSubplot at 0x1e7ce877160>"
      ]
     },
     "execution_count": 64,
     "metadata": {},
     "output_type": "execute_result"
    },
    {
     "data": {
      "image/png": "[encoded data removed]",
      "text/plain": [
       "<Figure size 432x288 with 1 Axes>"
      ]
     },
     "metadata": {
      "needs_background": "light"
     },
     "output_type": "display_data"
    }
   ],
   "source": [
    "sb.countplot(predict_y)"
   ]
  },
  {
   "cell_type": "markdown",
   "metadata": {},
   "source": [
    "# K neighbors (no resample)"
   ]
  },
  {
   "cell_type": "code",
   "execution_count": 65,
   "metadata": {},
   "outputs": [
    {
     "name": "stderr",
     "output_type": "stream",
     "text": [
      "C:\\Users\\User\\Anaconda3\\lib\\site-packages\\sklearn\\preprocessing\\data.py:645: DataConversionWarning: Data with input dtype int32, int64, float64 were all converted to float64 by StandardScaler.\n",
      "  return self.partial_fit(X, y)\n",
      "C:\\Users\\User\\Anaconda3\\lib\\site-packages\\sklearn\\base.py:464: DataConversionWarning: Data with input dtype int32, int64, float64 were all converted to float64 by StandardScaler.\n",
      "  return self.fit(X, **fit_params).transform(X)\n",
      "C:\\Users\\User\\Anaconda3\\lib\\site-packages\\sklearn\\preprocessing\\data.py:645: DataConversionWarning: Data with input dtype int32, int64, float64 were all converted to float64 by StandardScaler.\n",
      "  return self.partial_fit(X, y)\n",
      "C:\\Users\\User\\Anaconda3\\lib\\site-packages\\sklearn\\base.py:464: DataConversionWarning: Data with input dtype int32, int64, float64 were all converted to float64 by StandardScaler.\n",
      "  return self.fit(X, **fit_params).transform(X)\n"
     ]
    },
    {
     "name": "stdout",
     "output_type": "stream",
     "text": [
      "[[2527    8]\n",
      " [ 270  195]]\n",
      "0.9073333333333333\n",
      "              precision    recall  f1-score   support\n",
      "\n",
      "           0       0.90      1.00      0.95      2535\n",
      "           1       0.96      0.42      0.58       465\n",
      "\n",
      "   micro avg       0.91      0.91      0.91      3000\n",
      "   macro avg       0.93      0.71      0.77      3000\n",
      "weighted avg       0.91      0.91      0.89      3000\n",
      "\n"
     ]
    }
   ],
   "source": [
    "train_x=SC().fit_transform(train_x)\n",
    "test_x=SC().fit_transform(test_x)\n",
    "\n",
    "classifier=KNC(n_neighbors=83,p=2,metric='euclidean')\n",
    "classifier.fit(train_x,train_y)\n",
    "y_pred=classifier.predict(test_x)\n",
    "m3=cm(test_y,y_pred)\n",
    "print(m3)\n",
    "\n",
    "\n",
    "ln0=[acc(test_y,y_pred)]\n",
    "ln0.append(prr(test_y,y_pred))\n",
    "ln0.append(rcc(test_y,y_pred))\n",
    "ln0.append(m3[0][0]/(m3[0][0]+m3[0][1])) #TPR\n",
    "ln0.append(m3[1][1]/(m3[1][1]+m3[1][0])) #TNR\n",
    "ln0.append(m3[1][0]/(m3[1][1]+m3[1][0])) #FPR\n",
    "ln0.append(m3[0][1]/(m3[0][0]+m3[0][1])) #FNR\n",
    "\n",
    "\n",
    "print(acc(test_y,y_pred))\n",
    "print(cr(test_y,y_pred))"
   ]
  },
  {
   "cell_type": "markdown",
   "metadata": {},
   "source": [
    "## Naive Bayes (no resample)"
   ]
  },
  {
   "cell_type": "code",
   "execution_count": 66,
   "metadata": {},
   "outputs": [
    {
     "name": "stdout",
     "output_type": "stream",
     "text": [
      "[[2509   26]\n",
      " [ 145  320]]\n",
      "0.943\n",
      "              precision    recall  f1-score   support\n",
      "\n",
      "           0       0.95      0.99      0.97      2535\n",
      "           1       0.92      0.69      0.79       465\n",
      "\n",
      "   micro avg       0.94      0.94      0.94      3000\n",
      "   macro avg       0.94      0.84      0.88      3000\n",
      "weighted avg       0.94      0.94      0.94      3000\n",
      "\n"
     ]
    }
   ],
   "source": [
    "model_b=GB().fit(train_x,train_y)\n",
    "predict_b=model_b.predict(test_x)\n",
    "m4=cm(test_y,predict_b)\n",
    "print(m4)\n",
    "\n",
    "lb0=[acc(test_y,predict_b)]\n",
    "lb0.append(prr(test_y,predict_b))\n",
    "lb0.append(rcc(test_y,predict_b))\n",
    "lb0.append(m4[0][0]/(m4[0][0]+m4[0][1])) #TPR\n",
    "lb0.append(m4[1][1]/(m4[1][1]+m4[1][0])) #TNR\n",
    "lb0.append(m4[1][0]/(m4[1][1]+m4[1][0])) #FPR\n",
    "lb0.append(m4[0][1]/(m4[0][0]+m4[0][1])) #FNR\n",
    "\n",
    "\n",
    "print(acc(test_y,predict_b))\n",
    "print(cr(test_y,predict_b))"
   ]
  },
  {
   "cell_type": "markdown",
   "metadata": {},
   "source": [
    "# Model Creation atter upsampling or downsampling"
   ]
  },
  {
   "cell_type": "markdown",
   "metadata": {},
   "source": [
    "# k=8 (All features)"
   ]
  },
  {
   "cell_type": "markdown",
   "metadata": {},
   "source": [
    "## upsampling"
   ]
  },
  {
   "cell_type": "code",
   "execution_count": 67,
   "metadata": {},
   "outputs": [
    {
     "name": "stdout",
     "output_type": "stream",
     "text": [
      "0    8469\n",
      "1    1531\n",
      "Name: approval, dtype: int64\n"
     ]
    }
   ],
   "source": [
    "from sklearn.utils import resample as rs\n",
    "\n",
    "print(df['approval'].value_counts())\n",
    "major=df[df.approval==0]\n",
    "minor=df[df.approval==1]"
   ]
  },
  {
   "cell_type": "code",
   "execution_count": 68,
   "metadata": {},
   "outputs": [],
   "source": [
    "upsampled=rs(minor,replace=True,n_samples=8466,random_state=1)\n",
    "upsampled=p.concat([upsampled,major])\n",
    "upsampled['approval'].value_counts()\n",
    "\n",
    "y=upsampled['approval']\n",
    "x=upsampled.drop(['approval'],axis=1)\n",
    "Xtrn,Xtst,Ytrn,Ytst=tts(x,y,test_size=0.3,random_state=1)"
   ]
  },
  {
   "cell_type": "code",
   "execution_count": 69,
   "metadata": {
    "scrolled": true
   },
   "outputs": [
    {
     "data": {
      "image/png": "[encoded data removed]",
      "text/plain": [
       "<Figure size 432x288 with 1 Axes>"
      ]
     },
     "metadata": {
      "needs_background": "light"
     },
     "output_type": "display_data"
    }
   ],
   "source": [
    "sb.countplot(upsampled['approval'])\n",
    "pl.show()"
   ]
  },
  {
   "cell_type": "code",
   "execution_count": 70,
   "metadata": {},
   "outputs": [
    {
     "data": {
      "text/plain": [
       "0    8469\n",
       "1    8466\n",
       "Name: approval, dtype: int64"
      ]
     },
     "execution_count": 70,
     "metadata": {},
     "output_type": "execute_result"
    }
   ],
   "source": [
    "upsampled['approval'].value_counts()"
   ]
  },
  {
   "cell_type": "markdown",
   "metadata": {},
   "source": [
    "## Logistic Regression (Up sampling)"
   ]
  },
  {
   "cell_type": "code",
   "execution_count": 71,
   "metadata": {},
   "outputs": [
    {
     "name": "stdout",
     "output_type": "stream",
     "text": [
      "[[ 787 1785]\n",
      " [ 130 2379]]\n",
      "0.6231056878567212\n",
      "              precision    recall  f1-score   support\n",
      "\n",
      "           0       0.31      0.86      0.45       917\n",
      "           1       0.95      0.57      0.71      4164\n",
      "\n",
      "   micro avg       0.62      0.62      0.62      5081\n",
      "   macro avg       0.63      0.71      0.58      5081\n",
      "weighted avg       0.83      0.62      0.67      5081\n",
      "\n"
     ]
    },
    {
     "name": "stderr",
     "output_type": "stream",
     "text": [
      "C:\\Users\\User\\Anaconda3\\lib\\site-packages\\sklearn\\linear_model\\logistic.py:433: FutureWarning: Default solver will be changed to 'lbfgs' in 0.22. Specify a solver to silence this warning.\n",
      "  FutureWarning)\n"
     ]
    }
   ],
   "source": [
    "US_model_r=LG().fit(Xtrn,Ytrn)\n",
    "USpredict_r=US_model_r.predict(Xtst)\n",
    "m8lU=cm(Ytst,USpredict_r)\n",
    "print(m8lU)\n",
    "\n",
    "lg8U=[acc(Ytst,USpredict_r)]\n",
    "lg8U.append(prr(Ytst,USpredict_r))\n",
    "lg8U.append(rcc(Ytst,USpredict_r))\n",
    "lg8U.append(m8lU[0][0]/(m8lU[0][0]+m8lU[0][1])) #TPR\n",
    "lg8U.append(m8lU[1][1]/(m8lU[1][1]+m8lU[1][0])) #TNR\n",
    "lg8U.append(m8lU[1][0]/(m8lU[1][1]+m8lU[1][0])) #FPR\n",
    "lg8U.append(m8lU[0][1]/(m8lU[0][0]+m8lU[0][1])) #FNR\n",
    "\n",
    "print(acc(USpredict_r,Ytst))\n",
    "print(cr(USpredict_r,Ytst))"
   ]
  },
  {
   "cell_type": "code",
   "execution_count": 72,
   "metadata": {},
   "outputs": [
    {
     "data": {
      "text/plain": [
       "<matplotlib.axes._subplots.AxesSubplot at 0x1e7ce7760f0>"
      ]
     },
     "execution_count": 72,
     "metadata": {},
     "output_type": "execute_result"
    },
    {
     "data": {
      "image/png": "[encoded data removed]",
      "text/plain": [
       "<Figure size 432x288 with 1 Axes>"
      ]
     },
     "metadata": {
      "needs_background": "light"
     },
     "output_type": "display_data"
    }
   ],
   "source": [
    "sb.countplot(Ytrn)"
   ]
  },
  {
   "cell_type": "code",
   "execution_count": 73,
   "metadata": {},
   "outputs": [
    {
     "data": {
      "text/plain": [
       "<matplotlib.axes._subplots.AxesSubplot at 0x1e7ce732550>"
      ]
     },
     "execution_count": 73,
     "metadata": {},
     "output_type": "execute_result"
    },
    {
     "data": {
      "image/png": "[encoded data removed]",
      "text/plain": [
       "<Figure size 432x288 with 1 Axes>"
      ]
     },
     "metadata": {
      "needs_background": "light"
     },
     "output_type": "display_data"
    }
   ],
   "source": [
    "sb.countplot(Ytst)"
   ]
  },
  {
   "cell_type": "code",
   "execution_count": 74,
   "metadata": {},
   "outputs": [
    {
     "data": {
      "text/plain": [
       "<matplotlib.axes._subplots.AxesSubplot at 0x1e7cf65e5f8>"
      ]
     },
     "execution_count": 74,
     "metadata": {},
     "output_type": "execute_result"
    },
    {
     "data": {
      "image/png": "[encoded data removed]",
      "text/plain": [
       "<Figure size 432x288 with 1 Axes>"
      ]
     },
     "metadata": {
      "needs_background": "light"
     },
     "output_type": "display_data"
    }
   ],
   "source": [
    "sb.countplot(USpredict_r)"
   ]
  },
  {
   "cell_type": "markdown",
   "metadata": {},
   "source": [
    "## Decision Tree (Up sampling)"
   ]
  },
  {
   "cell_type": "code",
   "execution_count": 75,
   "metadata": {},
   "outputs": [
    {
     "name": "stdout",
     "output_type": "stream",
     "text": [
      "[[2515   57]\n",
      " [   6 2503]]\n",
      "0.9876008659712655\n",
      "              precision    recall  f1-score   support\n",
      "\n",
      "           0       0.98      1.00      0.99      2521\n",
      "           1       1.00      0.98      0.99      2560\n",
      "\n",
      "   micro avg       0.99      0.99      0.99      5081\n",
      "   macro avg       0.99      0.99      0.99      5081\n",
      "weighted avg       0.99      0.99      0.99      5081\n",
      "\n"
     ]
    }
   ],
   "source": [
    "US_model_t=dtc(criterion='entropy',random_state=1)\n",
    "US_model_t.fit(Xtrn,Ytrn)\n",
    "USpredict_t=US_model_t.predict(Xtst)\n",
    "m8tU=cm(Ytst,USpredict_t)\n",
    "print(m8tU)\n",
    "\n",
    "lt8U=[acc(Ytst,USpredict_t)]\n",
    "lt8U.append(prr(Ytst,USpredict_t))\n",
    "lt8U.append(rcc(Ytst,USpredict_t))\n",
    "lt8U.append(m8tU[0][0]/(m8tU[0][0]+m8tU[0][1])) #TPR\n",
    "lt8U.append(m8tU[1][1]/(m8tU[1][1]+m8tU[1][0])) #TNR\n",
    "lt8U.append(m8tU[1][0]/(m8tU[1][1]+m8tU[1][0])) #FPR\n",
    "lt8U.append(m8tU[0][1]/(m8tU[0][0]+m8tU[0][1])) #FNR\n",
    "\n",
    "\n",
    "print(acc(USpredict_t,Ytst))\n",
    "print(cr(USpredict_t,Ytst))"
   ]
  },
  {
   "cell_type": "markdown",
   "metadata": {},
   "source": [
    "## After resampling output feature in testing dataset"
   ]
  },
  {
   "cell_type": "code",
   "execution_count": 76,
   "metadata": {},
   "outputs": [
    {
     "data": {
      "text/plain": [
       "<matplotlib.axes._subplots.AxesSubplot at 0x1e7cf578470>"
      ]
     },
     "execution_count": 76,
     "metadata": {},
     "output_type": "execute_result"
    },
    {
     "data": {
      "image/png": "[encoded data removed]",
      "text/plain": [
       "<Figure size 432x288 with 1 Axes>"
      ]
     },
     "metadata": {
      "needs_background": "light"
     },
     "output_type": "display_data"
    }
   ],
   "source": [
    "sb.countplot(Ytst)"
   ]
  },
  {
   "cell_type": "markdown",
   "metadata": {},
   "source": [
    "## After resampling predicted output feature"
   ]
  },
  {
   "cell_type": "code",
   "execution_count": 77,
   "metadata": {},
   "outputs": [
    {
     "data": {
      "text/plain": [
       "<matplotlib.axes._subplots.AxesSubplot at 0x1e7cf5c61d0>"
      ]
     },
     "execution_count": 77,
     "metadata": {},
     "output_type": "execute_result"
    },
    {
     "data": {
      "image/png": "[encoded data removed]",
      "text/plain": [
       "<Figure size 432x288 with 1 Axes>"
      ]
     },
     "metadata": {
      "needs_background": "light"
     },
     "output_type": "display_data"
    }
   ],
   "source": [
    "sb.countplot(USpredict_t)"
   ]
  },
  {
   "cell_type": "markdown",
   "metadata": {},
   "source": [
    "## K neighbors (Up sampling)"
   ]
  },
  {
   "cell_type": "code",
   "execution_count": 78,
   "metadata": {},
   "outputs": [
    {
     "name": "stderr",
     "output_type": "stream",
     "text": [
      "C:\\Users\\User\\Anaconda3\\lib\\site-packages\\sklearn\\preprocessing\\data.py:645: DataConversionWarning: Data with input dtype int32, int64, float64 were all converted to float64 by StandardScaler.\n",
      "  return self.partial_fit(X, y)\n",
      "C:\\Users\\User\\Anaconda3\\lib\\site-packages\\sklearn\\base.py:464: DataConversionWarning: Data with input dtype int32, int64, float64 were all converted to float64 by StandardScaler.\n",
      "  return self.fit(X, **fit_params).transform(X)\n",
      "C:\\Users\\User\\Anaconda3\\lib\\site-packages\\sklearn\\preprocessing\\data.py:645: DataConversionWarning: Data with input dtype int32, int64, float64 were all converted to float64 by StandardScaler.\n",
      "  return self.partial_fit(X, y)\n",
      "C:\\Users\\User\\Anaconda3\\lib\\site-packages\\sklearn\\base.py:464: DataConversionWarning: Data with input dtype int32, int64, float64 were all converted to float64 by StandardScaler.\n",
      "  return self.fit(X, **fit_params).transform(X)\n"
     ]
    },
    {
     "name": "stdout",
     "output_type": "stream",
     "text": [
      "[[2188  384]\n",
      " [  13 2496]]\n",
      "0.9218657744538477\n",
      "              precision    recall  f1-score   support\n",
      "\n",
      "           0       0.99      0.85      0.92      2572\n",
      "           1       0.87      0.99      0.93      2509\n",
      "\n",
      "   micro avg       0.92      0.92      0.92      5081\n",
      "   macro avg       0.93      0.92      0.92      5081\n",
      "weighted avg       0.93      0.92      0.92      5081\n",
      "\n"
     ]
    }
   ],
   "source": [
    "Xtrn=SC().fit_transform(Xtrn)\n",
    "Xtst=SC().fit_transform(Xtst)\n",
    "\n",
    "US_model_n=KNC(n_neighbors=83,p=2,metric='euclidean')\n",
    "US_model_n.fit(Xtrn,Ytrn)\n",
    "US_predict_n=US_model_n.predict(Xtst)\n",
    "m8nU=cm(Ytst,US_predict_n)\n",
    "print(m8nU)\n",
    "\n",
    "ln8U=[acc(Ytst,US_predict_n)]\n",
    "ln8U.append(prr(Ytst,US_predict_n))\n",
    "ln8U.append(rcc(Ytst,US_predict_n))\n",
    "ln8U.append(m8nU[0][0]/(m8nU[0][0]+m8nU[0][1])) #TPR\n",
    "ln8U.append(m8nU[1][1]/(m8nU[1][1]+m8nU[1][0])) #TNR\n",
    "ln8U.append(m8nU[1][0]/(m8nU[1][1]+m8nU[1][0])) #FPR\n",
    "ln8U.append(m8nU[0][1]/(m8nU[0][0]+m8nU[0][1])) #FNR\n",
    "\n",
    "\n",
    "print(acc(Ytst,US_predict_n))\n",
    "print(cr(Ytst,US_predict_n))"
   ]
  },
  {
   "cell_type": "markdown",
   "metadata": {},
   "source": [
    "## Naive Bayes (Up sampling)"
   ]
  },
  {
   "cell_type": "code",
   "execution_count": 79,
   "metadata": {},
   "outputs": [
    {
     "name": "stdout",
     "output_type": "stream",
     "text": [
      "[[2286  286]\n",
      " [  86 2423]]\n",
      "0.9267860657350915\n",
      "              precision    recall  f1-score   support\n",
      "\n",
      "           0       0.96      0.89      0.92      2572\n",
      "           1       0.89      0.97      0.93      2509\n",
      "\n",
      "   micro avg       0.93      0.93      0.93      5081\n",
      "   macro avg       0.93      0.93      0.93      5081\n",
      "weighted avg       0.93      0.93      0.93      5081\n",
      "\n"
     ]
    }
   ],
   "source": [
    "from sklearn.naive_bayes import GaussianNB as GB\n",
    "US_model_b=GB().fit(Xtrn,Ytrn)\n",
    "US_predict_b=US_model_b.predict(Xtst)\n",
    "\n",
    "m8bU=cm(Ytst,US_predict_b)\n",
    "print(m8bU)\n",
    "\n",
    "lb8U=[acc(Ytst,US_predict_b)]\n",
    "lb8U.append(prr(Ytst,US_predict_b))\n",
    "lb8U.append(rcc(Ytst,US_predict_b))\n",
    "lb8U.append(m8bU[0][0]/(m8bU[0][0]+m8bU[0][1])) #TPR\n",
    "lb8U.append(m8bU[1][1]/(m8bU[1][1]+m8bU[1][0])) #TNR\n",
    "lb8U.append(m8bU[1][0]/(m8bU[1][1]+m8bU[1][0])) #FPR\n",
    "lb8U.append(m8bU[0][1]/(m8bU[0][0]+m8bU[0][1])) #FNR\n",
    "\n",
    "\n",
    "print(acc(Ytst,US_predict_b))\n",
    "print(cr(Ytst,US_predict_b))"
   ]
  },
  {
   "cell_type": "markdown",
   "metadata": {},
   "source": [
    "## downsampling"
   ]
  },
  {
   "cell_type": "code",
   "execution_count": 80,
   "metadata": {},
   "outputs": [],
   "source": [
    "downsampled=rs(major,replace=False,n_samples=1531,random_state=1)\n",
    "downsampled=p.concat([downsampled,minor])\n",
    "downsampled['approval'].value_counts()\n",
    "\n",
    "y=downsampled['approval']\n",
    "x=downsampled.drop(['approval'],axis=1)\n",
    "Xtrn,Xtst,Ytrn,Ytst=tts(x,y,test_size=0.3,random_state=1)"
   ]
  },
  {
   "cell_type": "code",
   "execution_count": 81,
   "metadata": {},
   "outputs": [
    {
     "data": {
      "image/png": "[encoded data removed]",
      "text/plain": [
       "<Figure size 432x288 with 1 Axes>"
      ]
     },
     "metadata": {
      "needs_background": "light"
     },
     "output_type": "display_data"
    }
   ],
   "source": [
    "sb.countplot(downsampled['approval'])\n",
    "pl.show()"
   ]
  },
  {
   "cell_type": "code",
   "execution_count": 82,
   "metadata": {},
   "outputs": [
    {
     "data": {
      "text/plain": [
       "1    1531\n",
       "0    1531\n",
       "Name: approval, dtype: int64"
      ]
     },
     "execution_count": 82,
     "metadata": {},
     "output_type": "execute_result"
    }
   ],
   "source": [
    "downsampled['approval'].value_counts()"
   ]
  },
  {
   "cell_type": "markdown",
   "metadata": {},
   "source": [
    "## Logistic Regression (Down Sampling)"
   ]
  },
  {
   "cell_type": "code",
   "execution_count": 83,
   "metadata": {},
   "outputs": [
    {
     "name": "stdout",
     "output_type": "stream",
     "text": [
      "[[162 309]\n",
      " [ 32 416]]\n",
      "0.6289445048966268\n",
      "              precision    recall  f1-score   support\n",
      "\n",
      "           0       0.84      0.34      0.49       471\n",
      "           1       0.57      0.93      0.71       448\n",
      "\n",
      "   micro avg       0.63      0.63      0.63       919\n",
      "   macro avg       0.70      0.64      0.60       919\n",
      "weighted avg       0.71      0.63      0.60       919\n",
      "\n"
     ]
    },
    {
     "name": "stderr",
     "output_type": "stream",
     "text": [
      "C:\\Users\\User\\Anaconda3\\lib\\site-packages\\sklearn\\linear_model\\logistic.py:433: FutureWarning: Default solver will be changed to 'lbfgs' in 0.22. Specify a solver to silence this warning.\n",
      "  FutureWarning)\n"
     ]
    }
   ],
   "source": [
    "DS_model_r=LG().fit(Xtrn,Ytrn)\n",
    "DSpredict_r=DS_model_r.predict(Xtst)\n",
    "\n",
    "m8lD=cm(Ytst,DSpredict_r)\n",
    "print(m8lD)\n",
    "\n",
    "lg8D=[acc(Ytst,DSpredict_r)]\n",
    "lg8D.append(prr(Ytst,DSpredict_r))\n",
    "lg8D.append(rcc(Ytst,DSpredict_r))\n",
    "lg8D.append(m8lD[0][0]/(m8lD[0][0]+m8lD[0][1])) #TPR\n",
    "lg8D.append(m8lD[1][1]/(m8lD[1][1]+m8lD[1][0])) #TNR\n",
    "lg8D.append(m8lD[1][0]/(m8lD[1][1]+m8lD[1][0])) #FPR\n",
    "lg8D.append(m8lD[0][1]/(m8lD[0][0]+m8lD[0][1])) #FNR\n",
    "\n",
    "\n",
    "print(acc(Ytst,DSpredict_r))\n",
    "print(cr(Ytst,DSpredict_r))"
   ]
  },
  {
   "cell_type": "markdown",
   "metadata": {},
   "source": [
    "## Decision Tree (Down Sampling)"
   ]
  },
  {
   "cell_type": "code",
   "execution_count": 84,
   "metadata": {},
   "outputs": [
    {
     "name": "stdout",
     "output_type": "stream",
     "text": [
      "[[446  25]\n",
      " [ 15 433]]\n",
      "0.956474428726877\n",
      "              precision    recall  f1-score   support\n",
      "\n",
      "           0       0.97      0.95      0.96       471\n",
      "           1       0.95      0.97      0.96       448\n",
      "\n",
      "   micro avg       0.96      0.96      0.96       919\n",
      "   macro avg       0.96      0.96      0.96       919\n",
      "weighted avg       0.96      0.96      0.96       919\n",
      "\n"
     ]
    }
   ],
   "source": [
    "DS_model_t=dtc(criterion='entropy',random_state=1)\n",
    "DS_model_t.fit(Xtrn,Ytrn)\n",
    "DSpredict_t=DS_model_t.predict(Xtst)\n",
    "\n",
    "m8tD=cm(Ytst,DSpredict_t)\n",
    "print(m8tD)\n",
    "\n",
    "lt8D=[acc(Ytst,DSpredict_t)]\n",
    "lt8D.append(prr(Ytst,DSpredict_t))\n",
    "lt8D.append(rcc(Ytst,DSpredict_t))\n",
    "lt8D.append(m8tD[0][0]/(m8tD[0][0]+m8tD[0][1])) #TPR\n",
    "lt8D.append(m8tD[1][1]/(m8tD[1][1]+m8tD[1][0])) #TNR\n",
    "lt8D.append(m8tD[1][0]/(m8tD[1][1]+m8tD[1][0])) #FPR\n",
    "lt8D.append(m8tD[0][1]/(m8tD[0][0]+m8tD[0][1])) #FNR\n",
    "\n",
    "\n",
    "print(acc(Ytst,DSpredict_t))\n",
    "print(cr(Ytst,DSpredict_t)) "
   ]
  },
  {
   "cell_type": "markdown",
   "metadata": {},
   "source": [
    "## K neighbors (Down Sampling)"
   ]
  },
  {
   "cell_type": "code",
   "execution_count": 85,
   "metadata": {},
   "outputs": [
    {
     "name": "stdout",
     "output_type": "stream",
     "text": [
      "[[373  98]\n",
      " [  0 448]]\n",
      "0.8933623503808488\n",
      "              precision    recall  f1-score   support\n",
      "\n",
      "           0       1.00      0.79      0.88       471\n",
      "           1       0.82      1.00      0.90       448\n",
      "\n",
      "   micro avg       0.89      0.89      0.89       919\n",
      "   macro avg       0.91      0.90      0.89       919\n",
      "weighted avg       0.91      0.89      0.89       919\n",
      "\n"
     ]
    },
    {
     "name": "stderr",
     "output_type": "stream",
     "text": [
      "C:\\Users\\User\\Anaconda3\\lib\\site-packages\\sklearn\\preprocessing\\data.py:645: DataConversionWarning: Data with input dtype int32, int64, float64 were all converted to float64 by StandardScaler.\n",
      "  return self.partial_fit(X, y)\n",
      "C:\\Users\\User\\Anaconda3\\lib\\site-packages\\sklearn\\base.py:464: DataConversionWarning: Data with input dtype int32, int64, float64 were all converted to float64 by StandardScaler.\n",
      "  return self.fit(X, **fit_params).transform(X)\n",
      "C:\\Users\\User\\Anaconda3\\lib\\site-packages\\sklearn\\preprocessing\\data.py:645: DataConversionWarning: Data with input dtype int32, int64, float64 were all converted to float64 by StandardScaler.\n",
      "  return self.partial_fit(X, y)\n",
      "C:\\Users\\User\\Anaconda3\\lib\\site-packages\\sklearn\\base.py:464: DataConversionWarning: Data with input dtype int32, int64, float64 were all converted to float64 by StandardScaler.\n",
      "  return self.fit(X, **fit_params).transform(X)\n"
     ]
    }
   ],
   "source": [
    "Xtrn=SC().fit_transform(Xtrn)\n",
    "Xtst=SC().fit_transform(Xtst)\n",
    "\n",
    "DS_model_n=KNC(n_neighbors=83,p=2,metric='euclidean')\n",
    "DS_model_n.fit(Xtrn,Ytrn)\n",
    "DS_predict_n=DS_model_n.predict(Xtst)\n",
    "m8nD=cm(Ytst,DS_predict_n)\n",
    "print(m8nD)\n",
    "\n",
    "ln8D=[acc(Ytst,DS_predict_n)]\n",
    "ln8D.append(prr(Ytst,DS_predict_n))\n",
    "ln8D.append(rcc(Ytst,DS_predict_n))\n",
    "ln8D.append(m8nD[0][0]/(m8nD[0][0]+m8nD[0][1])) #TPR\n",
    "ln8D.append(m8nD[1][1]/(m8nD[1][1]+m8nD[1][0])) #TNR\n",
    "ln8D.append(m8nD[1][0]/(m8nD[1][1]+m8nD[1][0])) #FPR\n",
    "ln8D.append(m8nD[0][1]/(m8nD[0][0]+m8nD[0][1])) #FNR\n",
    "\n",
    "\n",
    "print(acc(Ytst,DS_predict_n))\n",
    "print(cr(Ytst,DS_predict_n))"
   ]
  },
  {
   "cell_type": "markdown",
   "metadata": {},
   "source": [
    "## Naive Bayes (Down Sampling)"
   ]
  },
  {
   "cell_type": "code",
   "execution_count": 86,
   "metadata": {},
   "outputs": [
    {
     "name": "stdout",
     "output_type": "stream",
     "text": [
      "[[410  61]\n",
      " [ 10 438]]\n",
      "0.9227421109902068\n",
      "              precision    recall  f1-score   support\n",
      "\n",
      "           0       0.98      0.87      0.92       471\n",
      "           1       0.88      0.98      0.93       448\n",
      "\n",
      "   micro avg       0.92      0.92      0.92       919\n",
      "   macro avg       0.93      0.92      0.92       919\n",
      "weighted avg       0.93      0.92      0.92       919\n",
      "\n"
     ]
    }
   ],
   "source": [
    "DS_model_b=GB().fit(Xtrn,Ytrn)\n",
    "DS_predict_b=DS_model_b.predict(Xtst)\n",
    "m8bD=cm(Ytst,DS_predict_b)\n",
    "print(m8bD)\n",
    "\n",
    "lb8D=[acc(Ytst,DS_predict_b)]\n",
    "lb8D.append(prr(Ytst,DS_predict_b))\n",
    "lb8D.append(rcc(Ytst,DS_predict_b))\n",
    "lb8D.append(m8bD[0][0]/(m8bD[0][0]+m8bD[0][1])) #TPR\n",
    "lb8D.append(m8bD[1][1]/(m8bD[1][1]+m8bD[1][0])) #TNR\n",
    "lb8D.append(m8bD[1][0]/(m8bD[1][1]+m8bD[1][0])) #FPR\n",
    "lb8D.append(m8bD[0][1]/(m8bD[0][0]+m8bD[0][1])) #FNR\n",
    "\n",
    "\n",
    "print(acc(Ytst,DS_predict_b))\n",
    "print(cr(Ytst,DS_predict_b))"
   ]
  },
  {
   "cell_type": "markdown",
   "metadata": {},
   "source": [
    "# Resampling Evaluation"
   ]
  },
  {
   "cell_type": "code",
   "execution_count": 87,
   "metadata": {},
   "outputs": [],
   "source": [
    "rw=['accuracy','Precission','Recall','TP rate','TN rate','FP rate','FN rate']\n",
    "col=['withou Resampling','Upsampling','downsampling']\n",
    "\n",
    "df_LG=p.DataFrame(columns=col,index=rw)\n",
    "df_DCT=df_KN=df_NB=df_LG"
   ]
  },
  {
   "cell_type": "code",
   "execution_count": 88,
   "metadata": {},
   "outputs": [
    {
     "name": "stdout",
     "output_type": "stream",
     "text": [
      "            withou Resampling  Upsampling  downsampling\n",
      "accuracy                0.845    0.623106      0.628945\n",
      "Precission              0.000    0.571326      0.573793\n",
      "Recall                  0.000    0.948187      0.928571\n",
      "TP rate                 1.000    0.305988      0.343949\n",
      "TN rate                 0.000    0.948187      0.928571\n",
      "FP rate                 1.000    0.051813      0.071429\n",
      "FN rate                 0.000    0.694012      0.656051\n"
     ]
    }
   ],
   "source": [
    "df_LG['withou Resampling']=lg0\n",
    "df_LG['Upsampling']=lg8U\n",
    "df_LG['downsampling']=lg8D\n",
    "print(df_LG)"
   ]
  },
  {
   "cell_type": "code",
   "execution_count": 89,
   "metadata": {},
   "outputs": [
    {
     "data": {
      "image/png": "[encoded data removed]",
      "text/plain": [
       "<Figure size 432x288 with 1 Axes>"
      ]
     },
     "metadata": {
      "needs_background": "light"
     },
     "output_type": "display_data"
    }
   ],
   "source": [
    "X_axis=n.arange(len(col))\n",
    "pl.xticks(X_axis,col)\n",
    "\n",
    "#pl.figure(figsize=(12,12))\n",
    "pl.bar(X_axis-.2,df_LG.iloc[0],width=0.1,label='accuracy')\n",
    "pl.bar(X_axis-.1,df_LG.iloc[1],width=0.1,label='Precission')\n",
    "pl.bar(X_axis,df_LG.iloc[2],width=0.1,label='Recall')\n",
    "pl.bar(X_axis+.1,df_LG.iloc[3],width=0.1,label='TP Rate')\n",
    "pl.bar(X_axis+.2,df_LG.iloc[4],width=0.1,label='TN Rate')\n",
    "pl.bar(X_axis+.3,df_LG.iloc[5],width=0.1,label='FP Rate')\n",
    "pl.bar(X_axis+.4,df_LG.iloc[6],width=0.1,label='FN Rate')\n",
    "pl.title(\"Logistic Regression Evaluation\")\n",
    "pl.xlabel(\"BEfore & After Resamling\")\n",
    "pl.ylabel(\"value in fraction\")\n",
    "\n",
    "pl.legend()\n",
    "pl.show()"
   ]
  },
  {
   "cell_type": "code",
   "execution_count": 90,
   "metadata": {},
   "outputs": [
    {
     "name": "stdout",
     "output_type": "stream",
     "text": [
      "            withou Resampling  Upsampling  downsampling\n",
      "accuracy             0.962333    0.987601      0.956474\n",
      "Precission           0.892857    0.977734      0.945415\n",
      "Recall               0.860215    0.997609      0.966518\n",
      "TP rate              0.981065    0.977838      0.946921\n",
      "TN rate              0.860215    0.997609      0.966518\n",
      "FP rate              0.139785    0.002391      0.033482\n",
      "FN rate              0.018935    0.022162      0.053079\n"
     ]
    }
   ],
   "source": [
    "df_DCT['withou Resampling']=lt0\n",
    "df_DCT['Upsampling']=lt8U\n",
    "df_DCT['downsampling']=lt8D\n",
    "print(df_DCT)"
   ]
  },
  {
   "cell_type": "code",
   "execution_count": 91,
   "metadata": {},
   "outputs": [
    {
     "data": {
      "image/png": "[encoded data removed]",
      "text/plain": [
       "<Figure size 432x288 with 1 Axes>"
      ]
     },
     "metadata": {
      "needs_background": "light"
     },
     "output_type": "display_data"
    }
   ],
   "source": [
    "X_axis=n.arange(len(col))\n",
    "pl.xticks(X_axis,col)\n",
    "\n",
    "#pl.figure(figsize=(12,12))\n",
    "pl.bar(X_axis-.2,df_DCT.iloc[0],width=0.1,label='accuracy')\n",
    "pl.bar(X_axis-.1,df_DCT.iloc[1],width=0.1,label='Precission')\n",
    "pl.bar(X_axis,df_DCT.iloc[2],width=0.1,label='Recall')\n",
    "pl.bar(X_axis+.1,df_DCT.iloc[3],width=0.1,label='TP Rate')\n",
    "pl.bar(X_axis+.2,df_DCT.iloc[4],width=0.1,label='TN Rate')\n",
    "pl.bar(X_axis+.3,df_DCT.iloc[5],width=0.1,label='FP Rate')\n",
    "pl.bar(X_axis+.4,df_DCT.iloc[6],width=0.1,label='FN Rate')\n",
    "pl.title(\"Decision Tree Evaluation\")\n",
    "pl.xlabel(\"Before & After Resamling\")\n",
    "pl.ylabel(\"value in fraction\")\n",
    "\n",
    "pl.legend()\n",
    "pl.show()"
   ]
  },
  {
   "cell_type": "code",
   "execution_count": 92,
   "metadata": {},
   "outputs": [
    {
     "name": "stdout",
     "output_type": "stream",
     "text": [
      "            withou Resampling  Upsampling  downsampling\n",
      "accuracy             0.907333    0.921866      0.893362\n",
      "Precission           0.960591    0.866667      0.820513\n",
      "Recall               0.419355    0.994819      1.000000\n",
      "TP rate              0.996844    0.850700      0.791932\n",
      "TN rate              0.419355    0.994819      1.000000\n",
      "FP rate              0.580645    0.005181      0.000000\n",
      "FN rate              0.003156    0.149300      0.208068\n"
     ]
    }
   ],
   "source": [
    "df_KN['withou Resampling']=ln0\n",
    "df_KN['Upsampling']=ln8U\n",
    "df_KN['downsampling']=ln8D\n",
    "print(df_KN)"
   ]
  },
  {
   "cell_type": "code",
   "execution_count": 93,
   "metadata": {},
   "outputs": [
    {
     "data": {
      "image/png": "[encoded data removed]",
      "text/plain": [
       "<Figure size 432x288 with 1 Axes>"
      ]
     },
     "metadata": {
      "needs_background": "light"
     },
     "output_type": "display_data"
    }
   ],
   "source": [
    "X_axis=n.arange(len(col))\n",
    "pl.xticks(X_axis,col)\n",
    "\n",
    "#pl.figure(figsize=(12,12))\n",
    "pl.bar(X_axis-.2,df_KN.iloc[0],width=0.1,label='accuracy')\n",
    "pl.bar(X_axis-.1,df_KN.iloc[1],width=0.1,label='Precission')\n",
    "pl.bar(X_axis,df_KN.iloc[2],width=0.1,label='Recall')\n",
    "pl.bar(X_axis+.1,df_KN.iloc[3],width=0.1,label='TP Rate')\n",
    "pl.bar(X_axis+.2,df_KN.iloc[4],width=0.1,label='TN Rate')\n",
    "pl.bar(X_axis+.3,df_KN.iloc[5],width=0.1,label='FP Rate')\n",
    "pl.bar(X_axis+.4,df_KN.iloc[6],width=0.1,label='FN Rate')\n",
    "pl.title(\"K Neighbors Model Evaluation\")\n",
    "pl.xlabel(\"Before & After Resamling\")\n",
    "pl.ylabel(\"value in fraction\")\n",
    "\n",
    "pl.legend()\n",
    "pl.show()"
   ]
  },
  {
   "cell_type": "code",
   "execution_count": 94,
   "metadata": {},
   "outputs": [
    {
     "name": "stdout",
     "output_type": "stream",
     "text": [
      "            withou Resampling  Upsampling  downsampling\n",
      "accuracy             0.943000    0.926786      0.922742\n",
      "Precission           0.924855    0.894426      0.877756\n",
      "Recall               0.688172    0.965723      0.977679\n",
      "TP rate              0.989744    0.888802      0.870488\n",
      "TN rate              0.688172    0.965723      0.977679\n",
      "FP rate              0.311828    0.034277      0.022321\n",
      "FN rate              0.010256    0.111198      0.129512\n"
     ]
    }
   ],
   "source": [
    "df_NB['withou Resampling']=lb0\n",
    "df_NB['Upsampling']=lb8U\n",
    "df_NB['downsampling']=lb8D\n",
    "print(df_NB)"
   ]
  },
  {
   "cell_type": "code",
   "execution_count": 95,
   "metadata": {},
   "outputs": [
    {
     "data": {
      "image/png": "[encoded data removed]",
      "text/plain": [
       "<Figure size 432x288 with 1 Axes>"
      ]
     },
     "metadata": {
      "needs_background": "light"
     },
     "output_type": "display_data"
    }
   ],
   "source": [
    "X_axis=n.arange(len(col))\n",
    "pl.xticks(X_axis,col)\n",
    "\n",
    "#pl.figure(figsize=(12,12))\n",
    "pl.bar(X_axis-.2,df_NB.iloc[0],width=0.1,label='accuracy')\n",
    "pl.bar(X_axis-.1,df_NB.iloc[1],width=0.1,label='Precission')\n",
    "pl.bar(X_axis,df_NB.iloc[2],width=0.1,label='Recall')\n",
    "pl.bar(X_axis+.1,df_NB.iloc[3],width=0.1,label='TP Rate')\n",
    "pl.bar(X_axis+.2,df_NB.iloc[4],width=0.1,label='TN Rate')\n",
    "pl.bar(X_axis+.3,df_NB.iloc[5],width=0.1,label='FP Rate')\n",
    "pl.bar(X_axis+.4,df_NB.iloc[6],width=0.1,label='FN Rate')\n",
    "pl.xlabel(\"BEfore & After Resamling\")\n",
    "pl.ylabel(\"value in fraction\")\n",
    "\n",
    "pl.legend()\n",
    "pl.show()"
   ]
  },
  {
   "cell_type": "markdown",
   "metadata": {},
   "source": [
    "# Resampling Result"
   ]
  },
  {
   "cell_type": "code",
   "execution_count": 96,
   "metadata": {},
   "outputs": [],
   "source": [
    "#As upsampling is giving better result we will proceed furthur with the upsampled data \n",
    "\n",
    "y=upsampled['approval']\n",
    "x=upsampled.drop(['approval'],axis=1)"
   ]
  },
  {
   "cell_type": "code",
   "execution_count": 97,
   "metadata": {},
   "outputs": [],
   "source": [
    "from sklearn import model_selection\n",
    "from sklearn.ensemble import RandomForestClassifier as RFC\n",
    "from sklearn.tree import DecisionTreeClassifier as DTC\n",
    "from sklearn.ensemble import VotingClassifier as VC\n",
    "from sklearn.linear_model import LogisticRegression as LG\n",
    "from sklearn.preprocessing import StandardScaler as SC\n",
    "from sklearn.neighbors import KNeighborsClassifier as KNC\n",
    "from sklearn.naive_bayes import GaussianNB as GB"
   ]
  },
  {
   "cell_type": "markdown",
   "metadata": {},
   "source": [
    "## Bagging (Before Select K best)"
   ]
  },
  {
   "cell_type": "code",
   "execution_count": 98,
   "metadata": {},
   "outputs": [
    {
     "name": "stdout",
     "output_type": "stream",
     "text": [
      "[0.99940968 0.99940968 0.99822904 0.99940968 0.99881936 0.97932664\n",
      " 0.98995865 0.98405198 0.94979327 0.94979327]\n",
      "0.984820125372131\n"
     ]
    }
   ],
   "source": [
    "seed=1\n",
    "num_trees=100\n",
    "max_features=3\n",
    "Kfold=model_selection.KFold(n_splits=10,random_state=seed)\n",
    "model=RFC(n_estimators=num_trees,max_features=max_features)\n",
    "results=model_selection.cross_val_score(model,x,y,cv=Kfold)\n",
    "print(results)\n",
    "print(results.mean())"
   ]
  },
  {
   "cell_type": "markdown",
   "metadata": {},
   "source": [
    "## Voting (before Select K best)"
   ]
  },
  {
   "cell_type": "code",
   "execution_count": 99,
   "metadata": {},
   "outputs": [
    {
     "name": "stderr",
     "output_type": "stream",
     "text": [
      "C:\\Users\\User\\Anaconda3\\lib\\site-packages\\sklearn\\preprocessing\\data.py:645: DataConversionWarning: Data with input dtype int32, int64, float64 were all converted to float64 by StandardScaler.\n",
      "  return self.partial_fit(X, y)\n",
      "C:\\Users\\User\\Anaconda3\\lib\\site-packages\\sklearn\\base.py:464: DataConversionWarning: Data with input dtype int32, int64, float64 were all converted to float64 by StandardScaler.\n",
      "  return self.fit(X, **fit_params).transform(X)\n",
      "C:\\Users\\User\\Anaconda3\\lib\\site-packages\\sklearn\\linear_model\\logistic.py:433: FutureWarning: Default solver will be changed to 'lbfgs' in 0.22. Specify a solver to silence this warning.\n",
      "  FutureWarning)\n",
      "C:\\Users\\User\\Anaconda3\\lib\\site-packages\\sklearn\\linear_model\\logistic.py:433: FutureWarning: Default solver will be changed to 'lbfgs' in 0.22. Specify a solver to silence this warning.\n",
      "  FutureWarning)\n",
      "C:\\Users\\User\\Anaconda3\\lib\\site-packages\\sklearn\\linear_model\\logistic.py:433: FutureWarning: Default solver will be changed to 'lbfgs' in 0.22. Specify a solver to silence this warning.\n",
      "  FutureWarning)\n",
      "C:\\Users\\User\\Anaconda3\\lib\\site-packages\\sklearn\\linear_model\\logistic.py:433: FutureWarning: Default solver will be changed to 'lbfgs' in 0.22. Specify a solver to silence this warning.\n",
      "  FutureWarning)\n",
      "C:\\Users\\User\\Anaconda3\\lib\\site-packages\\sklearn\\linear_model\\logistic.py:433: FutureWarning: Default solver will be changed to 'lbfgs' in 0.22. Specify a solver to silence this warning.\n",
      "  FutureWarning)\n",
      "C:\\Users\\User\\Anaconda3\\lib\\site-packages\\sklearn\\linear_model\\logistic.py:433: FutureWarning: Default solver will be changed to 'lbfgs' in 0.22. Specify a solver to silence this warning.\n",
      "  FutureWarning)\n",
      "C:\\Users\\User\\Anaconda3\\lib\\site-packages\\sklearn\\linear_model\\logistic.py:433: FutureWarning: Default solver will be changed to 'lbfgs' in 0.22. Specify a solver to silence this warning.\n",
      "  FutureWarning)\n",
      "C:\\Users\\User\\Anaconda3\\lib\\site-packages\\sklearn\\linear_model\\logistic.py:433: FutureWarning: Default solver will be changed to 'lbfgs' in 0.22. Specify a solver to silence this warning.\n",
      "  FutureWarning)\n",
      "C:\\Users\\User\\Anaconda3\\lib\\site-packages\\sklearn\\linear_model\\logistic.py:433: FutureWarning: Default solver will be changed to 'lbfgs' in 0.22. Specify a solver to silence this warning.\n",
      "  FutureWarning)\n",
      "C:\\Users\\User\\Anaconda3\\lib\\site-packages\\sklearn\\linear_model\\logistic.py:433: FutureWarning: Default solver will be changed to 'lbfgs' in 0.22. Specify a solver to silence this warning.\n",
      "  FutureWarning)\n"
     ]
    },
    {
     "name": "stdout",
     "output_type": "stream",
     "text": [
      "0.6338672120984316\n"
     ]
    }
   ],
   "source": [
    "xv=SC().fit_transform(x)\n",
    "\n",
    "estimators=[]\n",
    "model1=LG()\n",
    "estimators.append(('logistic',model1))\n",
    "model2=DTC()\n",
    "estimators.append(('tree',model2))\n",
    "model3=KNC(n_neighbors=100,p=2,metric='euclidean')\n",
    "estimators.append(('K neighbor',model3))\n",
    "model4=GB()\n",
    "estimators.append(('bayes',model4))\n",
    "\n",
    "\n",
    "ensemble=VC(estimators)\n",
    "results=model_selection.cross_val_score(ensemble,x,y,cv=Kfold)\n",
    "print(results.mean())"
   ]
  },
  {
   "cell_type": "markdown",
   "metadata": {},
   "source": [
    "# Select K Best"
   ]
  },
  {
   "cell_type": "code",
   "execution_count": 100,
   "metadata": {},
   "outputs": [],
   "source": [
    "from sklearn.feature_selection import SelectKBest as skb\n",
    "from sklearn.feature_selection import chi2,f_classif"
   ]
  },
  {
   "cell_type": "code",
   "execution_count": 101,
   "metadata": {},
   "outputs": [],
   "source": [
    "best_fit=skb(f_classif,k=5).fit(x,y)"
   ]
  },
  {
   "cell_type": "code",
   "execution_count": 102,
   "metadata": {},
   "outputs": [],
   "source": [
    "df_scores=p.DataFrame(best_fit.scores_)  #create a fataframe containing the scores of the column\n",
    "df_columns=p.DataFrame(x.columns)  #create data frame containing all columns\n",
    "\n",
    "#create a dataframe with al the columns and their scores\n",
    "feature_scores=p.concat([df_columns,df_scores],axis=1)\n",
    "\n",
    "#renaming columns of the new dataframe\n",
    "feature_scores.columns=['features','Scores']"
   ]
  },
  {
   "cell_type": "code",
   "execution_count": 103,
   "metadata": {},
   "outputs": [
    {
     "name": "stdout",
     "output_type": "stream",
     "text": [
      "         features        Scores\n",
      "0     customer_id      0.609832\n",
      "1      est_income   3454.073142\n",
      "2        hold_bal    424.019584\n",
      "3  pref_cust_prob  21099.552761\n",
      "4      imp_cscore     14.179925\n",
      "5       RiskScore      0.030026\n",
      "6      axio_score     10.902447\n",
      "7          ad exp      0.265098\n"
     ]
    }
   ],
   "source": [
    "print(feature_scores)"
   ]
  },
  {
   "cell_type": "markdown",
   "metadata": {},
   "source": [
    "# k=5"
   ]
  },
  {
   "cell_type": "code",
   "execution_count": 104,
   "metadata": {},
   "outputs": [
    {
     "name": "stdout",
     "output_type": "stream",
     "text": [
      "         features        Scores\n",
      "3  pref_cust_prob  21099.552761\n",
      "1      est_income   3454.073142\n",
      "2        hold_bal    424.019584\n",
      "4      imp_cscore     14.179925\n",
      "6      axio_score     10.902447\n"
     ]
    }
   ],
   "source": [
    "df5=feature_scores.nlargest(5,'Scores')\n",
    "print(df5)"
   ]
  },
  {
   "cell_type": "code",
   "execution_count": 105,
   "metadata": {},
   "outputs": [],
   "source": [
    "x=upsampled[df5['features']]\n",
    "Xtrn,Xtst,Ytrn,Ytst=tts(x,y,test_size=0.3,random_state=1)"
   ]
  },
  {
   "cell_type": "markdown",
   "metadata": {},
   "source": [
    "## Logisctic Regression"
   ]
  },
  {
   "cell_type": "code",
   "execution_count": 106,
   "metadata": {},
   "outputs": [
    {
     "name": "stderr",
     "output_type": "stream",
     "text": [
      "C:\\Users\\User\\Anaconda3\\lib\\site-packages\\sklearn\\linear_model\\logistic.py:433: FutureWarning: Default solver will be changed to 'lbfgs' in 0.22. Specify a solver to silence this warning.\n",
      "  FutureWarning)\n"
     ]
    }
   ],
   "source": [
    "model_l5=LG().fit(Xtrn,Ytrn)\n",
    "predict_l5=model_l5.predict(Xtst)"
   ]
  },
  {
   "cell_type": "code",
   "execution_count": 107,
   "metadata": {
    "scrolled": true
   },
   "outputs": [
    {
     "name": "stdout",
     "output_type": "stream",
     "text": [
      "[[   0 2572]\n",
      " [   0 2509]]\n",
      "0.49380043298563275\n",
      "              precision    recall  f1-score   support\n",
      "\n",
      "           0       0.00      0.00      0.00      2572\n",
      "           1       0.49      1.00      0.66      2509\n",
      "\n",
      "   micro avg       0.49      0.49      0.49      5081\n",
      "   macro avg       0.25      0.50      0.33      5081\n",
      "weighted avg       0.24      0.49      0.33      5081\n",
      "\n"
     ]
    },
    {
     "name": "stderr",
     "output_type": "stream",
     "text": [
      "C:\\Users\\User\\Anaconda3\\lib\\site-packages\\sklearn\\metrics\\classification.py:1143: UndefinedMetricWarning: Precision and F-score are ill-defined and being set to 0.0 in labels with no predicted samples.\n",
      "  'precision', 'predicted', average, warn_for)\n",
      "C:\\Users\\User\\Anaconda3\\lib\\site-packages\\sklearn\\metrics\\classification.py:1143: UndefinedMetricWarning: Precision and F-score are ill-defined and being set to 0.0 in labels with no predicted samples.\n",
      "  'precision', 'predicted', average, warn_for)\n",
      "C:\\Users\\User\\Anaconda3\\lib\\site-packages\\sklearn\\metrics\\classification.py:1143: UndefinedMetricWarning: Precision and F-score are ill-defined and being set to 0.0 in labels with no predicted samples.\n",
      "  'precision', 'predicted', average, warn_for)\n"
     ]
    }
   ],
   "source": [
    "m5L=cm(Ytst,predict_l5)\n",
    "print(m5L)\n",
    "\n",
    "lg5=[acc(Ytst,predict_l5)]\n",
    "lg5.append(prr(Ytst,predict_l5))\n",
    "lg5.append(rcc(Ytst,predict_l5))\n",
    "lg5.append(m5L[0][0]/(m5L[0][0]+m5L[0][1])) #TPR\n",
    "lg5.append(m5L[1][1]/(m5L[1][1]+m5L[1][0])) #TNR\n",
    "lg5.append(m5L[1][0]/(m5L[1][1]+m5L[1][0])) #FPR\n",
    "lg5.append(m5L[0][1]/(m5L[0][0]+m5L[0][1])) #FNR\n",
    "\n",
    "print(acc(Ytst,predict_l5))\n",
    "MA5=cr(Ytst,predict_l5)\n",
    "print(MA5)"
   ]
  },
  {
   "cell_type": "markdown",
   "metadata": {},
   "source": [
    "## Decision Tree"
   ]
  },
  {
   "cell_type": "code",
   "execution_count": 108,
   "metadata": {
    "scrolled": true
   },
   "outputs": [
    {
     "name": "stdout",
     "output_type": "stream",
     "text": [
      "[[2527   45]\n",
      " [   6 2503]]\n",
      "0.9899626057862625\n",
      "              precision    recall  f1-score   support\n",
      "\n",
      "           0       1.00      0.98      0.99      2572\n",
      "           1       0.98      1.00      0.99      2509\n",
      "\n",
      "   micro avg       0.99      0.99      0.99      5081\n",
      "   macro avg       0.99      0.99      0.99      5081\n",
      "weighted avg       0.99      0.99      0.99      5081\n",
      "\n"
     ]
    }
   ],
   "source": [
    "model_t5=dtc(criterion='entropy',random_state=1)\n",
    "model_t5.fit(Xtrn,Ytrn)\n",
    "predict_t5=model_t5.predict(Xtst)\n",
    "m5t=cm(Ytst,predict_t5)\n",
    "print(m5t)\n",
    "\n",
    "lt5=[acc(Ytst,predict_t5)]\n",
    "lt5.append(prr(Ytst,predict_t5))\n",
    "lt5.append(rcc(Ytst,predict_t5))\n",
    "lt5.append(m5t[0][0]/(m5t[0][0]+m5t[0][1])) #TPR\n",
    "lt5.append(m5t[1][1]/(m5t[1][1]+m5t[1][0])) #TNR\n",
    "lt5.append(m5t[1][0]/(m5t[1][1]+m5t[1][0])) #FPR\n",
    "lt5.append(m5t[0][1]/(m5t[0][0]+m5t[0][1])) #FNR\n",
    "\n",
    "\n",
    "print(acc(Ytst,predict_t5))\n",
    "print(cr(Ytst,predict_t5))"
   ]
  },
  {
   "cell_type": "markdown",
   "metadata": {},
   "source": [
    "## K neighbors"
   ]
  },
  {
   "cell_type": "code",
   "execution_count": 109,
   "metadata": {},
   "outputs": [
    {
     "name": "stdout",
     "output_type": "stream",
     "text": [
      "[[2310  262]\n",
      " [   8 2501]]\n",
      "0.9468608541625664\n",
      "              precision    recall  f1-score   support\n",
      "\n",
      "           0       1.00      0.90      0.94      2572\n",
      "           1       0.91      1.00      0.95      2509\n",
      "\n",
      "   micro avg       0.95      0.95      0.95      5081\n",
      "   macro avg       0.95      0.95      0.95      5081\n",
      "weighted avg       0.95      0.95      0.95      5081\n",
      "\n"
     ]
    }
   ],
   "source": [
    "Xtrn=SC().fit_transform(Xtrn)\n",
    "Xtst=SC().fit_transform(Xtst)\n",
    "\n",
    "model_n5=KNC(n_neighbors=83,p=2,metric='euclidean')\n",
    "model_n5.fit(Xtrn,Ytrn)\n",
    "predict_n5=model_n5.predict(Xtst)\n",
    "m5n=cm(Ytst,predict_n5)\n",
    "print(m5n)\n",
    "\n",
    "ln5=[acc(Ytst,predict_n5)]\n",
    "ln5.append(prr(Ytst,predict_n5))\n",
    "ln5.append(rcc(Ytst,predict_n5))\n",
    "ln5.append(m5n[0][0]/(m5n[0][0]+m5n[0][1])) #TPR\n",
    "ln5.append(m5n[1][1]/(m5n[1][1]+m5n[1][0])) #TNR\n",
    "ln5.append(m5n[1][0]/(m5n[1][1]+m5n[1][0])) #FPR\n",
    "ln5.append(m5n[0][1]/(m5n[0][0]+m5n[0][1])) #FNR\n",
    "\n",
    "\n",
    "print(acc(Ytst,predict_n5))\n",
    "print(cr(Ytst,predict_n5))"
   ]
  },
  {
   "cell_type": "markdown",
   "metadata": {},
   "source": [
    "## Naive Bayes"
   ]
  },
  {
   "cell_type": "code",
   "execution_count": 110,
   "metadata": {},
   "outputs": [
    {
     "name": "stdout",
     "output_type": "stream",
     "text": [
      "[[2288  284]\n",
      " [  86 2423]]\n",
      "0.9271796890375911\n",
      "              precision    recall  f1-score   support\n",
      "\n",
      "           0       0.96      0.89      0.93      2572\n",
      "           1       0.90      0.97      0.93      2509\n",
      "\n",
      "   micro avg       0.93      0.93      0.93      5081\n",
      "   macro avg       0.93      0.93      0.93      5081\n",
      "weighted avg       0.93      0.93      0.93      5081\n",
      "\n"
     ]
    }
   ],
   "source": [
    "from sklearn.naive_bayes import GaussianNB as GB\n",
    "model_b5=GB().fit(Xtrn,Ytrn)\n",
    "predict_b5=model_b5.predict(Xtst)\n",
    "m5b=cm(Ytst,predict_b5)\n",
    "print(m5b)\n",
    "\n",
    "lb5=[acc(Ytst,predict_b5)]\n",
    "lb5.append(prr(Ytst,predict_b5))\n",
    "lb5.append(rcc(Ytst,predict_b5))\n",
    "lb5.append(m5b[0][0]/(m5b[0][0]+m5b[0][1])) #TPR\n",
    "lb5.append(m5b[1][1]/(m5b[1][1]+m5b[1][0])) #TNR\n",
    "lb5.append(m5b[1][0]/(m5b[1][1]+m5b[1][0])) #FPR\n",
    "lb5.append(m5b[0][1]/(m5b[0][0]+m5b[0][1])) #FNR\n",
    "\n",
    "\n",
    "print(acc(Ytst,predict_b5))\n",
    "print(cr(Ytst,predict_b5))"
   ]
  },
  {
   "cell_type": "markdown",
   "metadata": {},
   "source": [
    "# k=6"
   ]
  },
  {
   "cell_type": "code",
   "execution_count": 111,
   "metadata": {},
   "outputs": [
    {
     "name": "stdout",
     "output_type": "stream",
     "text": [
      "         features        Scores\n",
      "3  pref_cust_prob  21099.552761\n",
      "1      est_income   3454.073142\n",
      "2        hold_bal    424.019584\n",
      "4      imp_cscore     14.179925\n",
      "6      axio_score     10.902447\n",
      "0     customer_id      0.609832\n"
     ]
    }
   ],
   "source": [
    "df6=feature_scores.nlargest(6,'Scores')\n",
    "print(df6)"
   ]
  },
  {
   "cell_type": "code",
   "execution_count": 112,
   "metadata": {},
   "outputs": [],
   "source": [
    "x=upsampled[df6['features']]\n",
    "Xtrn,Xtst,Ytrn,Ytst=tts(x,y,test_size=0.3,random_state=1)"
   ]
  },
  {
   "cell_type": "markdown",
   "metadata": {},
   "source": [
    "## Logisctic Regression"
   ]
  },
  {
   "cell_type": "code",
   "execution_count": 113,
   "metadata": {},
   "outputs": [
    {
     "name": "stdout",
     "output_type": "stream",
     "text": [
      "[[ 787 1785]\n",
      " [ 130 2379]]\n",
      "0.6231056878567212\n",
      "              precision    recall  f1-score   support\n",
      "\n",
      "           0       0.86      0.31      0.45      2572\n",
      "           1       0.57      0.95      0.71      2509\n",
      "\n",
      "   micro avg       0.62      0.62      0.62      5081\n",
      "   macro avg       0.71      0.63      0.58      5081\n",
      "weighted avg       0.72      0.62      0.58      5081\n",
      "\n"
     ]
    },
    {
     "name": "stderr",
     "output_type": "stream",
     "text": [
      "C:\\Users\\User\\Anaconda3\\lib\\site-packages\\sklearn\\linear_model\\logistic.py:433: FutureWarning: Default solver will be changed to 'lbfgs' in 0.22. Specify a solver to silence this warning.\n",
      "  FutureWarning)\n"
     ]
    }
   ],
   "source": [
    "model_l6=LG().fit(Xtrn,Ytrn)\n",
    "predict_l6=model_l6.predict(Xtst)\n",
    "m6l=cm(Ytst,predict_l6)\n",
    "print(m6l)\n",
    "\n",
    "lg6=[acc(Ytst,predict_l6)]\n",
    "lg6.append(prr(Ytst,predict_l6))\n",
    "lg6.append(rcc(Ytst,predict_l6))\n",
    "lg6.append(m6l[0][0]/(m6l[0][0]+m6l[0][1])) #TPR\n",
    "lg6.append(m6l[1][1]/(m6l[1][1]+m6l[1][0])) #TNR\n",
    "lg6.append(m6l[1][0]/(m6l[1][1]+m6l[1][0])) #FPR\n",
    "lg6.append(m6l[0][1]/(m6l[0][0]+m6l[0][1])) #FNR\n",
    "\n",
    "\n",
    "print(acc(Ytst,predict_l6))\n",
    "print(cr(Ytst,predict_l6))"
   ]
  },
  {
   "cell_type": "markdown",
   "metadata": {},
   "source": [
    "## Decision Tree"
   ]
  },
  {
   "cell_type": "code",
   "execution_count": 114,
   "metadata": {},
   "outputs": [
    {
     "name": "stdout",
     "output_type": "stream",
     "text": [
      "[[2521   51]\n",
      " [   6 2503]]\n",
      "0.9887817358787641\n",
      "              precision    recall  f1-score   support\n",
      "\n",
      "           0       1.00      0.98      0.99      2572\n",
      "           1       0.98      1.00      0.99      2509\n",
      "\n",
      "   micro avg       0.99      0.99      0.99      5081\n",
      "   macro avg       0.99      0.99      0.99      5081\n",
      "weighted avg       0.99      0.99      0.99      5081\n",
      "\n"
     ]
    }
   ],
   "source": [
    "model_t6=dtc(criterion='entropy',random_state=1)\n",
    "model_t6.fit(Xtrn,Ytrn)\n",
    "predict_t6=model_t6.predict(Xtst)\n",
    "m6t=cm(Ytst,predict_t6)\n",
    "print(m6t)\n",
    "\n",
    "lt6=[acc(Ytst,predict_t6)]\n",
    "lt6.append(prr(Ytst,predict_t6))\n",
    "lt6.append(rcc(Ytst,predict_t6))\n",
    "lt6.append(m6t[0][0]/(m6t[0][0]+m6t[0][1])) #TPR\n",
    "lt6.append(m6t[1][1]/(m6t[1][1]+m6t[1][0])) #TNR\n",
    "lt6.append(m6t[1][0]/(m6t[1][1]+m6t[1][0])) #FPR\n",
    "lt6.append(m6t[0][1]/(m6t[0][0]+m6t[0][1])) #FNR\n",
    "\n",
    "\n",
    "print(acc(Ytst,predict_t6))\n",
    "print(cr(Ytst,predict_t6))"
   ]
  },
  {
   "cell_type": "markdown",
   "metadata": {},
   "source": [
    "## K neighbors"
   ]
  },
  {
   "cell_type": "code",
   "execution_count": 115,
   "metadata": {},
   "outputs": [
    {
     "name": "stderr",
     "output_type": "stream",
     "text": [
      "C:\\Users\\User\\Anaconda3\\lib\\site-packages\\sklearn\\preprocessing\\data.py:645: DataConversionWarning: Data with input dtype int64, float64 were all converted to float64 by StandardScaler.\n",
      "  return self.partial_fit(X, y)\n",
      "C:\\Users\\User\\Anaconda3\\lib\\site-packages\\sklearn\\base.py:464: DataConversionWarning: Data with input dtype int64, float64 were all converted to float64 by StandardScaler.\n",
      "  return self.fit(X, **fit_params).transform(X)\n",
      "C:\\Users\\User\\Anaconda3\\lib\\site-packages\\sklearn\\preprocessing\\data.py:645: DataConversionWarning: Data with input dtype int64, float64 were all converted to float64 by StandardScaler.\n",
      "  return self.partial_fit(X, y)\n",
      "C:\\Users\\User\\Anaconda3\\lib\\site-packages\\sklearn\\base.py:464: DataConversionWarning: Data with input dtype int64, float64 were all converted to float64 by StandardScaler.\n",
      "  return self.fit(X, **fit_params).transform(X)\n"
     ]
    },
    {
     "name": "stdout",
     "output_type": "stream",
     "text": [
      "[[2266  306]\n",
      " [  20 2489]]\n",
      "0.9358394016925802\n",
      "              precision    recall  f1-score   support\n",
      "\n",
      "           0       0.99      0.88      0.93      2572\n",
      "           1       0.89      0.99      0.94      2509\n",
      "\n",
      "   micro avg       0.94      0.94      0.94      5081\n",
      "   macro avg       0.94      0.94      0.94      5081\n",
      "weighted avg       0.94      0.94      0.94      5081\n",
      "\n"
     ]
    }
   ],
   "source": [
    "Xtrn=SC().fit_transform(Xtrn)\n",
    "Xtst=SC().fit_transform(Xtst)\n",
    "model_n6=KNC(n_neighbors=83,p=2,metric='euclidean')\n",
    "model_n6.fit(Xtrn,Ytrn)\n",
    "predict_n6=model_n6.predict(Xtst)\n",
    "m6n=cm(Ytst,predict_n6)\n",
    "print(m6n)\n",
    "\n",
    "ln6=[acc(Ytst,predict_n6)]\n",
    "ln6.append(prr(Ytst,predict_n6))\n",
    "ln6.append(rcc(Ytst,predict_n6))\n",
    "ln6.append(m6n[0][0]/(m6n[0][0]+m6n[0][1])) #TPR\n",
    "ln6.append(m6n[1][1]/(m6n[1][1]+m6n[1][0])) #TNR\n",
    "ln6.append(m6n[1][0]/(m6n[1][1]+m6n[1][0])) #FPR\n",
    "ln6.append(m6n[0][1]/(m6n[0][0]+m6n[0][1])) #FNR\n",
    "\n",
    "\n",
    "print(acc(Ytst,predict_n6))\n",
    "print(cr(Ytst,predict_n6))"
   ]
  },
  {
   "cell_type": "markdown",
   "metadata": {},
   "source": [
    "## Naive Bayes"
   ]
  },
  {
   "cell_type": "code",
   "execution_count": 116,
   "metadata": {},
   "outputs": [
    {
     "name": "stdout",
     "output_type": "stream",
     "text": [
      "[[2287  285]\n",
      " [  86 2423]]\n",
      "0.9269828773863412\n",
      "              precision    recall  f1-score   support\n",
      "\n",
      "           0       0.96      0.89      0.92      2572\n",
      "           1       0.89      0.97      0.93      2509\n",
      "\n",
      "   micro avg       0.93      0.93      0.93      5081\n",
      "   macro avg       0.93      0.93      0.93      5081\n",
      "weighted avg       0.93      0.93      0.93      5081\n",
      "\n"
     ]
    }
   ],
   "source": [
    "from sklearn.naive_bayes import GaussianNB as GB\n",
    "model_b6=GB().fit(Xtrn,Ytrn)\n",
    "predict_b6=model_b6.predict(Xtst)\n",
    "m6b=cm(Ytst,predict_b6)\n",
    "print(m6b)\n",
    "\n",
    "lb6=[acc(Ytst,predict_b6)]\n",
    "lb6.append(prr(Ytst,predict_b6))\n",
    "lb6.append(rcc(Ytst,predict_b6))\n",
    "lb6.append(m6b[0][0]/(m6b[0][0]+m6b[0][1])) #TPR\n",
    "lb6.append(m6b[1][1]/(m6b[1][1]+m6b[1][0])) #TNR\n",
    "lb6.append(m6b[1][0]/(m6b[1][1]+m6b[1][0])) #FPR\n",
    "lb6.append(m6b[0][1]/(m6b[0][0]+m6b[0][1])) #FNR\n",
    "\n",
    "\n",
    "print(acc(Ytst,predict_b6))\n",
    "print(cr(Ytst,predict_b6))"
   ]
  },
  {
   "cell_type": "markdown",
   "metadata": {},
   "source": [
    "## k=7"
   ]
  },
  {
   "cell_type": "code",
   "execution_count": 117,
   "metadata": {},
   "outputs": [
    {
     "name": "stdout",
     "output_type": "stream",
     "text": [
      "         features        Scores\n",
      "3  pref_cust_prob  21099.552761\n",
      "1      est_income   3454.073142\n",
      "2        hold_bal    424.019584\n",
      "4      imp_cscore     14.179925\n",
      "6      axio_score     10.902447\n",
      "0     customer_id      0.609832\n",
      "7          ad exp      0.265098\n"
     ]
    }
   ],
   "source": [
    "df7=feature_scores.nlargest(7,'Scores')\n",
    "print(df7)\n",
    "\n",
    "x=upsampled[df7['features']]\n",
    "Xtrn,Xtst,Ytrn,Ytst=tts(x,y,test_size=0.3,random_state=1)"
   ]
  },
  {
   "cell_type": "markdown",
   "metadata": {},
   "source": [
    "## Logisctic Regression"
   ]
  },
  {
   "cell_type": "code",
   "execution_count": 118,
   "metadata": {},
   "outputs": [
    {
     "name": "stdout",
     "output_type": "stream",
     "text": [
      "[[ 787 1785]\n",
      " [ 130 2379]]\n",
      "0.6231056878567212\n",
      "              precision    recall  f1-score   support\n",
      "\n",
      "           0       0.86      0.31      0.45      2572\n",
      "           1       0.57      0.95      0.71      2509\n",
      "\n",
      "   micro avg       0.62      0.62      0.62      5081\n",
      "   macro avg       0.71      0.63      0.58      5081\n",
      "weighted avg       0.72      0.62      0.58      5081\n",
      "\n"
     ]
    },
    {
     "name": "stderr",
     "output_type": "stream",
     "text": [
      "C:\\Users\\User\\Anaconda3\\lib\\site-packages\\sklearn\\linear_model\\logistic.py:433: FutureWarning: Default solver will be changed to 'lbfgs' in 0.22. Specify a solver to silence this warning.\n",
      "  FutureWarning)\n"
     ]
    }
   ],
   "source": [
    "model_l7=LG().fit(Xtrn,Ytrn)\n",
    "predict_l7=model_l7.predict(Xtst)\n",
    "m7l=cm(Ytst,predict_l7)\n",
    "print(m7l)\n",
    "\n",
    "lg7=[acc(Ytst,predict_l7)]\n",
    "lg7.append(prr(Ytst,predict_l7))\n",
    "lg7.append(rcc(Ytst,predict_l7))\n",
    "lg7.append(m7l[0][0]/(m7l[0][0]+m7l[0][1])) #TPR\n",
    "lg7.append(m7l[1][1]/(m7l[1][1]+m7l[1][0])) #TNR\n",
    "lg7.append(m7l[1][0]/(m7l[1][1]+m7l[1][0])) #FPR\n",
    "lg7.append(m7l[0][1]/(m7l[0][0]+m7l[0][1])) #FNR\n",
    "\n",
    "\n",
    "print(acc(Ytst,predict_l7))\n",
    "print(cr(Ytst,predict_l7))"
   ]
  },
  {
   "cell_type": "markdown",
   "metadata": {},
   "source": [
    "## Decision Tree"
   ]
  },
  {
   "cell_type": "code",
   "execution_count": 119,
   "metadata": {},
   "outputs": [
    {
     "name": "stdout",
     "output_type": "stream",
     "text": [
      "[[2526   46]\n",
      " [   6 2503]]\n",
      "0.9897657941350128\n",
      "              precision    recall  f1-score   support\n",
      "\n",
      "           0       1.00      0.98      0.99      2572\n",
      "           1       0.98      1.00      0.99      2509\n",
      "\n",
      "   micro avg       0.99      0.99      0.99      5081\n",
      "   macro avg       0.99      0.99      0.99      5081\n",
      "weighted avg       0.99      0.99      0.99      5081\n",
      "\n"
     ]
    }
   ],
   "source": [
    "model_t7=dtc(criterion='entropy',random_state=1)\n",
    "model_t7.fit(Xtrn,Ytrn)\n",
    "predict_t7=model_t7.predict(Xtst)\n",
    "m7t=cm(Ytst,predict_t7)\n",
    "print(m7t)\n",
    "\n",
    "lt7=[acc(Ytst,predict_t7)]\n",
    "lt7.append(prr(Ytst,predict_t7))\n",
    "lt7.append(rcc(Ytst,predict_t7))\n",
    "lt7.append(m7t[0][0]/(m7t[0][0]+m7t[0][1])) #TPR\n",
    "lt7.append(m7t[1][1]/(m7t[1][1]+m7t[1][0])) #TNR\n",
    "lt7.append(m7t[1][0]/(m7t[1][1]+m7t[1][0])) #FPR\n",
    "lt7.append(m7t[0][1]/(m7t[0][0]+m7t[0][1])) #FNR\n",
    "\n",
    "\n",
    "print(acc(Ytst,predict_t7))\n",
    "print(cr(Ytst,predict_t7))"
   ]
  },
  {
   "cell_type": "markdown",
   "metadata": {},
   "source": [
    "## K neighbors"
   ]
  },
  {
   "cell_type": "code",
   "execution_count": 120,
   "metadata": {},
   "outputs": [
    {
     "name": "stderr",
     "output_type": "stream",
     "text": [
      "C:\\Users\\User\\Anaconda3\\lib\\site-packages\\sklearn\\preprocessing\\data.py:645: DataConversionWarning: Data with input dtype int32, int64, float64 were all converted to float64 by StandardScaler.\n",
      "  return self.partial_fit(X, y)\n",
      "C:\\Users\\User\\Anaconda3\\lib\\site-packages\\sklearn\\base.py:464: DataConversionWarning: Data with input dtype int32, int64, float64 were all converted to float64 by StandardScaler.\n",
      "  return self.fit(X, **fit_params).transform(X)\n",
      "C:\\Users\\User\\Anaconda3\\lib\\site-packages\\sklearn\\preprocessing\\data.py:645: DataConversionWarning: Data with input dtype int32, int64, float64 were all converted to float64 by StandardScaler.\n",
      "  return self.partial_fit(X, y)\n",
      "C:\\Users\\User\\Anaconda3\\lib\\site-packages\\sklearn\\base.py:464: DataConversionWarning: Data with input dtype int32, int64, float64 were all converted to float64 by StandardScaler.\n",
      "  return self.fit(X, **fit_params).transform(X)\n"
     ]
    },
    {
     "name": "stdout",
     "output_type": "stream",
     "text": [
      "[[2201  371]\n",
      " [  11 2498]]\n",
      "0.924817949222594\n",
      "              precision    recall  f1-score   support\n",
      "\n",
      "           0       1.00      0.86      0.92      2572\n",
      "           1       0.87      1.00      0.93      2509\n",
      "\n",
      "   micro avg       0.92      0.92      0.92      5081\n",
      "   macro avg       0.93      0.93      0.92      5081\n",
      "weighted avg       0.93      0.92      0.92      5081\n",
      "\n"
     ]
    }
   ],
   "source": [
    "Xtrn=SC().fit_transform(Xtrn)\n",
    "Xtst=SC().fit_transform(Xtst)\n",
    "\n",
    "model_n7=KNC(n_neighbors=83,p=2,metric='euclidean')\n",
    "model_n7.fit(Xtrn,Ytrn)\n",
    "predict_n7=model_n7.predict(Xtst)\n",
    "m7n=cm(Ytst,predict_n7)\n",
    "print(m7n)\n",
    "\n",
    "ln7=[acc(Ytst,predict_n7)]\n",
    "ln7.append(prr(Ytst,predict_n7))\n",
    "ln7.append(rcc(Ytst,predict_n7))\n",
    "ln7.append(m7n[0][0]/(m7n[0][0]+m7n[0][1])) #TPR\n",
    "ln7.append(m7n[1][1]/(m7n[1][1]+m7n[1][0])) #TNR\n",
    "ln7.append(m7n[1][0]/(m7n[1][1]+m7n[1][0])) #FPR\n",
    "ln7.append(m7n[0][1]/(m7n[0][0]+m7n[0][1])) #FNR\n",
    "\n",
    "\n",
    "print(acc(Ytst,predict_n7))\n",
    "print(cr(Ytst,predict_n7))"
   ]
  },
  {
   "cell_type": "markdown",
   "metadata": {},
   "source": [
    "# Naive Bayes"
   ]
  },
  {
   "cell_type": "code",
   "execution_count": 121,
   "metadata": {},
   "outputs": [
    {
     "name": "stdout",
     "output_type": "stream",
     "text": [
      "[[2286  286]\n",
      " [  86 2423]]\n",
      "0.9267860657350915\n",
      "              precision    recall  f1-score   support\n",
      "\n",
      "           0       0.96      0.89      0.92      2572\n",
      "           1       0.89      0.97      0.93      2509\n",
      "\n",
      "   micro avg       0.93      0.93      0.93      5081\n",
      "   macro avg       0.93      0.93      0.93      5081\n",
      "weighted avg       0.93      0.93      0.93      5081\n",
      "\n"
     ]
    }
   ],
   "source": [
    "from sklearn.naive_bayes import GaussianNB as GB\n",
    "model_b7=GB().fit(Xtrn,Ytrn)\n",
    "predict_b7=model_b7.predict(Xtst)\n",
    "m7b=cm(Ytst,predict_b7)\n",
    "print(m7b)\n",
    "\n",
    "lb7=[acc(Ytst,predict_b7)]\n",
    "lb7.append(prr(Ytst,predict_b7))\n",
    "lb7.append(rcc(Ytst,predict_b7))\n",
    "lb7.append(m7b[0][0]/(m7b[0][0]+m7b[0][1])) #TPR\n",
    "lb7.append(m7b[1][1]/(m7b[1][1]+m7b[1][0])) #TNR\n",
    "lb7.append(m7b[1][0]/(m7b[1][1]+m7b[1][0])) #FPR\n",
    "lb7.append(m7b[0][1]/(m7b[0][0]+m7b[0][1])) #FNR\n",
    "\n",
    "\n",
    "print(acc(Ytst,predict_b7))\n",
    "print(cr(Ytst,predict_b7))"
   ]
  },
  {
   "cell_type": "markdown",
   "metadata": {},
   "source": [
    "# Evaluation Matrics Evaluation"
   ]
  },
  {
   "cell_type": "code",
   "execution_count": 122,
   "metadata": {},
   "outputs": [],
   "source": [
    "models=['Logistic RG','Decision Tree','K Neighbors','Naive Base']\n",
    "row=['accuracy','Precission','Recall','TP rate','TN rate','FP rate','FN rate']\n",
    "\n",
    "df0=p.DataFrame(columns=models,index=row)\n",
    "\n",
    "edf5=edf6=edf7=df8_U=df8_D=df0"
   ]
  },
  {
   "cell_type": "markdown",
   "metadata": {},
   "source": [
    "## before resampling"
   ]
  },
  {
   "cell_type": "code",
   "execution_count": 123,
   "metadata": {},
   "outputs": [
    {
     "name": "stdout",
     "output_type": "stream",
     "text": [
      "            Logistic RG  Decision Tree  K Neighbors  Naive Base\n",
      "accuracy          0.845       0.962333     0.907333    0.943000\n",
      "Precission        0.000       0.892857     0.960591    0.924855\n",
      "Recall            0.000       0.860215     0.419355    0.688172\n",
      "TP rate           1.000       0.981065     0.996844    0.989744\n",
      "TN rate           0.000       0.860215     0.419355    0.688172\n",
      "FP rate           1.000       0.139785     0.580645    0.311828\n",
      "FN rate           0.000       0.018935     0.003156    0.010256\n"
     ]
    }
   ],
   "source": [
    "df0['Logistic RG']=lg0\n",
    "df0['Decision Tree']=lt0\n",
    "df0['K Neighbors']=ln0\n",
    "df0['Naive Base']=lb0\n",
    "print(df0)"
   ]
  },
  {
   "cell_type": "code",
   "execution_count": 124,
   "metadata": {},
   "outputs": [
    {
     "data": {
      "image/png": "[encoded data removed]",
      "text/plain": [
       "<Figure size 432x288 with 1 Axes>"
      ]
     },
     "metadata": {
      "needs_background": "light"
     },
     "output_type": "display_data"
    }
   ],
   "source": [
    "X_axis=n.arange(len(models))\n",
    "pl.xticks(X_axis,models)\n",
    "\n",
    "#pl.figure(figsize=(12,12))\n",
    "pl.bar(X_axis-.2,df0.iloc[0],width=0.1,label='accuracy')\n",
    "pl.bar(X_axis-.1,df0.iloc[1],width=0.1,label='Precission')\n",
    "pl.bar(X_axis,df0.iloc[2],width=0.1,label='Recall')\n",
    "pl.bar(X_axis+.1,df0.iloc[3],width=0.1,label='TP Rate')\n",
    "pl.bar(X_axis+.2,df0.iloc[4],width=0.1,label='TN Rate')\n",
    "pl.bar(X_axis+.3,df0.iloc[5],width=0.1,label='FP Rate')\n",
    "pl.bar(X_axis+.4,df0.iloc[6],width=0.1,label='FN Rate')\n",
    "pl.xlabel(\"models\")\n",
    "pl.ylabel(\"value in fraction\")\n",
    "\n",
    "pl.legend()\n",
    "pl.show()"
   ]
  },
  {
   "cell_type": "markdown",
   "metadata": {},
   "source": [
    "## after resampling (K=8) => All features"
   ]
  },
  {
   "cell_type": "markdown",
   "metadata": {},
   "source": [
    "## Upsampling"
   ]
  },
  {
   "cell_type": "code",
   "execution_count": 125,
   "metadata": {},
   "outputs": [
    {
     "name": "stdout",
     "output_type": "stream",
     "text": [
      "            Logistic RG  Decision Tree  K Neighbors  Naive Base\n",
      "accuracy       0.623106       0.987601     0.921866    0.926786\n",
      "Precission     0.571326       0.977734     0.866667    0.894426\n",
      "Recall         0.948187       0.997609     0.994819    0.965723\n",
      "TP rate        0.305988       0.977838     0.850700    0.888802\n",
      "TN rate        0.948187       0.997609     0.994819    0.965723\n",
      "FP rate        0.051813       0.002391     0.005181    0.034277\n",
      "FN rate        0.694012       0.022162     0.149300    0.111198\n"
     ]
    }
   ],
   "source": [
    "df8_U['Logistic RG']=lg8U\n",
    "df8_U['Decision Tree']=lt8U\n",
    "df8_U['K Neighbors']=ln8U\n",
    "df8_U['Naive Base']=lb8U\n",
    "print(df8_U)"
   ]
  },
  {
   "cell_type": "code",
   "execution_count": 126,
   "metadata": {},
   "outputs": [
    {
     "data": {
      "image/png": "[encoded data removed]",
      "text/plain": [
       "<Figure size 432x288 with 1 Axes>"
      ]
     },
     "metadata": {
      "needs_background": "light"
     },
     "output_type": "display_data"
    }
   ],
   "source": [
    "X_axis=n.arange(len(models))\n",
    "pl.xticks(X_axis,models)\n",
    "\n",
    "#pl.figure(figsize=(12,12))\n",
    "pl.bar(X_axis-.2,df8_U.iloc[0],width=0.1,label='accuracy')\n",
    "pl.bar(X_axis-.1,df8_U.iloc[1],width=0.1,label='Precission')\n",
    "pl.bar(X_axis,df8_U.iloc[2],width=0.1,label='Recall')\n",
    "pl.bar(X_axis+.1,df8_U.iloc[3],width=0.1,label='TP Rate')\n",
    "pl.bar(X_axis+.2,df8_U.iloc[4],width=0.1,label='TN Rate')\n",
    "pl.bar(X_axis+.3,df8_U.iloc[5],width=0.1,label='FP Rate')\n",
    "pl.bar(X_axis+.4,df8_U.iloc[6],width=0.1,label='FN Rate')\n",
    "pl.xlabel(\"models\")\n",
    "pl.ylabel(\"value in fraction\")\n",
    "\n",
    "pl.legend()\n",
    "pl.show()"
   ]
  },
  {
   "cell_type": "markdown",
   "metadata": {},
   "source": [
    "## Downsampling"
   ]
  },
  {
   "cell_type": "code",
   "execution_count": 127,
   "metadata": {},
   "outputs": [
    {
     "name": "stdout",
     "output_type": "stream",
     "text": [
      "            Logistic RG  Decision Tree  K Neighbors  Naive Base\n",
      "accuracy       0.628945       0.956474     0.893362    0.922742\n",
      "Precission     0.573793       0.945415     0.820513    0.877756\n",
      "Recall         0.928571       0.966518     1.000000    0.977679\n",
      "TP rate        0.343949       0.946921     0.791932    0.870488\n",
      "TN rate        0.928571       0.966518     1.000000    0.977679\n",
      "FP rate        0.071429       0.033482     0.000000    0.022321\n",
      "FN rate        0.656051       0.053079     0.208068    0.129512\n"
     ]
    }
   ],
   "source": [
    "df8_D['Logistic RG']=lg8D\n",
    "df8_D['Decision Tree']=lt8D\n",
    "df8_D['K Neighbors']=ln8D\n",
    "df8_D['Naive Base']=lb8D\n",
    "print(df8_D)"
   ]
  },
  {
   "cell_type": "code",
   "execution_count": 128,
   "metadata": {},
   "outputs": [
    {
     "data": {
      "image/png": "[encoded data removed]",
      "text/plain": [
       "<Figure size 432x288 with 1 Axes>"
      ]
     },
     "metadata": {
      "needs_background": "light"
     },
     "output_type": "display_data"
    }
   ],
   "source": [
    "X_axis=n.arange(len(models))\n",
    "pl.xticks(X_axis,models)\n",
    "\n",
    "#pl.figure(figsize=(12,12))\n",
    "pl.bar(X_axis-.2,df8_D.iloc[0],width=0.1,label='accuracy')\n",
    "pl.bar(X_axis-.1,df8_D.iloc[1],width=0.1,label='Precission')\n",
    "pl.bar(X_axis,df8_D.iloc[2],width=0.1,label='Recall')\n",
    "pl.bar(X_axis+.1,df8_D.iloc[3],width=0.1,label='TP Rate')\n",
    "pl.bar(X_axis+.2,df8_D.iloc[4],width=0.1,label='TN Rate')\n",
    "pl.bar(X_axis+.3,df8_D.iloc[5],width=0.1,label='FP Rate')\n",
    "pl.bar(X_axis+.4,df8_D.iloc[6],width=0.1,label='FN Rate')\n",
    "pl.xlabel(\"models\")\n",
    "pl.ylabel(\"value in fraction\")\n",
    "\n",
    "pl.legend()\n",
    "pl.show()"
   ]
  },
  {
   "cell_type": "markdown",
   "metadata": {},
   "source": [
    "## after resampling (K=5)"
   ]
  },
  {
   "cell_type": "code",
   "execution_count": 129,
   "metadata": {},
   "outputs": [
    {
     "name": "stdout",
     "output_type": "stream",
     "text": [
      "            Logistic RG  Decision Tree  K Neighbors  Naive Base\n",
      "accuracy         0.4938       0.989963     0.946861    0.927180\n",
      "Precission       0.4938       0.982339     0.905176    0.895087\n",
      "Recall           1.0000       0.997609     0.996811    0.965723\n",
      "TP rate          0.0000       0.982504     0.898134    0.889580\n",
      "TN rate          1.0000       0.997609     0.996811    0.965723\n",
      "FP rate          0.0000       0.002391     0.003189    0.034277\n",
      "FN rate          1.0000       0.017496     0.101866    0.110420\n"
     ]
    }
   ],
   "source": [
    "edf5['Logistic RG']=lg5\n",
    "edf5['Decision Tree']=lt5\n",
    "edf5['K Neighbors']=ln5\n",
    "edf5['Naive Base']=lb5\n",
    "print(edf5)"
   ]
  },
  {
   "cell_type": "code",
   "execution_count": 130,
   "metadata": {},
   "outputs": [
    {
     "data": {
      "image/png": "[encoded data removed]",
      "text/plain": [
       "<Figure size 432x288 with 1 Axes>"
      ]
     },
     "metadata": {
      "needs_background": "light"
     },
     "output_type": "display_data"
    }
   ],
   "source": [
    "X_axis=n.arange(len(models))\n",
    "pl.xticks(X_axis,models)\n",
    "\n",
    "#pl.figure(figsize=(12,12))\n",
    "pl.bar(X_axis-.2,edf5.iloc[0],width=0.1,label='accuracy')\n",
    "pl.bar(X_axis-.1,edf5.iloc[1],width=0.1,label='Precission')\n",
    "pl.bar(X_axis,edf5.iloc[2],width=0.1,label='Recall')\n",
    "pl.bar(X_axis+.1,edf5.iloc[3],width=0.1,label='TP Rate')\n",
    "pl.bar(X_axis+.2,edf5.iloc[4],width=0.1,label='TN Rate')\n",
    "pl.bar(X_axis+.3,edf5.iloc[5],width=0.1,label='FP Rate')\n",
    "pl.bar(X_axis+.4,edf5.iloc[6],width=0.1,label='FN Rate')\n",
    "pl.title(\"Evaluation for K=5\")\n",
    "pl.xlabel(\"models\")\n",
    "pl.ylabel(\"value in fraction\")\n",
    "\n",
    "pl.legend()\n",
    "pl.show()"
   ]
  },
  {
   "cell_type": "markdown",
   "metadata": {},
   "source": [
    "## after resampling (K=6)"
   ]
  },
  {
   "cell_type": "code",
   "execution_count": 131,
   "metadata": {},
   "outputs": [
    {
     "name": "stdout",
     "output_type": "stream",
     "text": [
      "            Logistic RG  Decision Tree  K Neighbors  Naive Base\n",
      "accuracy       0.623106       0.988782     0.935839    0.926983\n",
      "Precission     0.571326       0.980031     0.890519    0.894756\n",
      "Recall         0.948187       0.997609     0.992029    0.965723\n",
      "TP rate        0.305988       0.980171     0.881026    0.889191\n",
      "TN rate        0.948187       0.997609     0.992029    0.965723\n",
      "FP rate        0.051813       0.002391     0.007971    0.034277\n",
      "FN rate        0.694012       0.019829     0.118974    0.110809\n"
     ]
    }
   ],
   "source": [
    "edf6['Logistic RG']=lg6\n",
    "edf6['Decision Tree']=lt6\n",
    "edf6['K Neighbors']=ln6\n",
    "edf6['Naive Base']=lb6\n",
    "print(edf6)"
   ]
  },
  {
   "cell_type": "code",
   "execution_count": 132,
   "metadata": {},
   "outputs": [
    {
     "data": {
      "image/png": "[encoded data removed]",
      "text/plain": [
       "<Figure size 432x288 with 1 Axes>"
      ]
     },
     "metadata": {
      "needs_background": "light"
     },
     "output_type": "display_data"
    }
   ],
   "source": [
    "X_axis=n.arange(len(models))\n",
    "pl.xticks(X_axis,models)\n",
    "\n",
    "#pl.figure(figsize=(12,12))\n",
    "pl.bar(X_axis-.2,edf6.iloc[0],width=0.1,label='accuracy')\n",
    "pl.bar(X_axis-.1,edf6.iloc[1],width=0.1,label='Precission')\n",
    "pl.bar(X_axis,edf6.iloc[2],width=0.1,label='Recall')\n",
    "pl.bar(X_axis+.1,edf6.iloc[3],width=0.1,label='TP Rate')\n",
    "pl.bar(X_axis+.2,edf6.iloc[4],width=0.1,label='TN Rate')\n",
    "pl.bar(X_axis+.3,edf6.iloc[5],width=0.1,label='FP Rate')\n",
    "pl.bar(X_axis+.4,edf6.iloc[6],width=0.1,label='FN Rate')\n",
    "pl.title(\"Evaluation for K=6\")\n",
    "pl.xlabel(\"models\")\n",
    "pl.ylabel(\"value in fraction\")\n",
    "\n",
    "pl.legend()\n",
    "pl.show()"
   ]
  },
  {
   "cell_type": "markdown",
   "metadata": {},
   "source": [
    "## after resampling (K=7)"
   ]
  },
  {
   "cell_type": "code",
   "execution_count": 133,
   "metadata": {},
   "outputs": [
    {
     "name": "stdout",
     "output_type": "stream",
     "text": [
      "            Logistic RG  Decision Tree  K Neighbors  Naive Base\n",
      "accuracy       0.623106       0.989766     0.924818    0.926786\n",
      "Precission     0.571326       0.981954     0.870687    0.894426\n",
      "Recall         0.948187       0.997609     0.995616    0.965723\n",
      "TP rate        0.305988       0.982115     0.855754    0.888802\n",
      "TN rate        0.948187       0.997609     0.995616    0.965723\n",
      "FP rate        0.051813       0.002391     0.004384    0.034277\n",
      "FN rate        0.694012       0.017885     0.144246    0.111198\n"
     ]
    }
   ],
   "source": [
    "edf7['Logistic RG']=lg7\n",
    "edf7['Decision Tree']=lt7\n",
    "edf7['K Neighbors']=ln7\n",
    "edf7['Naive Base']=lb7\n",
    "print(edf7)"
   ]
  },
  {
   "cell_type": "code",
   "execution_count": 134,
   "metadata": {},
   "outputs": [
    {
     "data": {
      "image/png": "[encoded data removed]",
      "text/plain": [
       "<Figure size 432x288 with 1 Axes>"
      ]
     },
     "metadata": {
      "needs_background": "light"
     },
     "output_type": "display_data"
    }
   ],
   "source": [
    "X_axis=n.arange(len(models))\n",
    "pl.xticks(X_axis,models)\n",
    "\n",
    "#pl.figure(figsize=(12,12))\n",
    "pl.bar(X_axis-.2,edf7.iloc[0],width=0.1,label='accuracy')\n",
    "pl.bar(X_axis-.1,edf7.iloc[1],width=0.1,label='Precission')\n",
    "pl.bar(X_axis,edf7.iloc[2],width=0.1,label='Recall')\n",
    "pl.bar(X_axis+.1,edf7.iloc[3],width=0.1,label='TP Rate')\n",
    "pl.bar(X_axis+.2,edf7.iloc[4],width=0.1,label='TN Rate')\n",
    "pl.bar(X_axis+.3,edf7.iloc[5],width=0.1,label='FP Rate')\n",
    "pl.bar(X_axis+.4,edf7.iloc[6],width=0.1,label='FN Rate')\n",
    "pl.title(\"Evaluation for K=7\")\n",
    "pl.xlabel(\"models\")\n",
    "pl.ylabel(\"value in fraction\")\n",
    "\n",
    "pl.legend()\n",
    "pl.show()"
   ]
  },
  {
   "cell_type": "markdown",
   "metadata": {},
   "source": [
    "## Here we can see for all the models, the decision tree is giving better accuracy, recall and precission as weel as proper TPR and TNR \n",
    "## so we will take decision tree as our final model and check for which value of k the values are better"
   ]
  },
  {
   "cell_type": "code",
   "execution_count": 135,
   "metadata": {},
   "outputs": [
    {
     "name": "stdout",
     "output_type": "stream",
     "text": [
      "                 k=5       k=6       k=7  All Features\n",
      "accuracy    0.989963  0.988782  0.989766      0.987601\n",
      "Precission  0.982339  0.980031  0.981954      0.977734\n",
      "Recall      0.997609  0.997609  0.997609      0.997609\n",
      "TP rate     0.982504  0.980171  0.982115      0.977838\n",
      "TN rate     0.997609  0.997609  0.997609      0.997609\n",
      "FP rate     0.002391  0.002391  0.002391      0.002391\n",
      "FN rate     0.017496  0.019829  0.017885      0.022162\n"
     ]
    }
   ],
   "source": [
    "evaluation=p.DataFrame(columns=['k=5','k=6','k=7','All Features'],index=row)\n",
    "\n",
    "evaluation['k=5']=lt5\n",
    "evaluation['k=6']=lt6\n",
    "evaluation['k=7']=lt7\n",
    "evaluation['All Features']=lt8U\n",
    "print(evaluation)"
   ]
  },
  {
   "cell_type": "code",
   "execution_count": 136,
   "metadata": {},
   "outputs": [
    {
     "data": {
      "image/png": "[encoded data removed]",
      "text/plain": [
       "<Figure size 432x288 with 1 Axes>"
      ]
     },
     "metadata": {
      "needs_background": "light"
     },
     "output_type": "display_data"
    }
   ],
   "source": [
    "X_axis=n.arange(len(models))\n",
    "pl.xticks(X_axis,['k=5','k=6','k=7','All Features'])\n",
    "\n",
    "#fig=pl.figure(figsize=(12,12))\n",
    "pl.bar(X_axis-.2,evaluation.iloc[0],width=0.1,label='accuracy')\n",
    "pl.bar(X_axis-.1,evaluation.iloc[1],width=0.1,label='Precission')\n",
    "pl.bar(X_axis,evaluation.iloc[2],width=0.1,label='Recall')\n",
    "pl.bar(X_axis+.1,evaluation.iloc[3],width=0.1,label='TP Rate')\n",
    "pl.bar(X_axis+.2,evaluation.iloc[4],width=0.1,label='TN Rate')\n",
    "pl.bar(X_axis+.3,evaluation.iloc[5],width=0.1,label='FP Rate')\n",
    "pl.bar(X_axis+.4,evaluation.iloc[6],width=0.1,label='FN Rate')\n",
    "pl.title(\"Evaluation Decision Tree of all values of K\")\n",
    "pl.xlabel(\"models\")\n",
    "pl.ylabel(\"value in fraction\")\n",
    "\n",
    "pl.legend()\n",
    "pl.show()"
   ]
  },
  {
   "cell_type": "markdown",
   "metadata": {},
   "source": [
    "## as we can see from the data frame that accuracy, precession & recall is best for k=7 as well as good TPR & TNR\n",
    "\n",
    "## our final model is decision tree with k=5 for k best features selection"
   ]
  },
  {
   "cell_type": "markdown",
   "metadata": {},
   "source": [
    "# Taking k=5 and preparing input features(x) with 5 features only"
   ]
  },
  {
   "cell_type": "code",
   "execution_count": 137,
   "metadata": {},
   "outputs": [],
   "source": [
    "x=upsampled[df5['features']]"
   ]
  },
  {
   "cell_type": "markdown",
   "metadata": {},
   "source": [
    "## Bagging (Random Forest) [k=5]"
   ]
  },
  {
   "cell_type": "code",
   "execution_count": 138,
   "metadata": {},
   "outputs": [
    {
     "name": "stdout",
     "output_type": "stream",
     "text": [
      "0.986473994243956\n"
     ]
    }
   ],
   "source": [
    "seed=1\n",
    "num_trees=100\n",
    "max_features=3\n",
    "Kfold=model_selection.KFold(n_splits=10,random_state=seed)\n",
    "model=RFC(n_estimators=num_trees,max_features=max_features)\n",
    "results=model_selection.cross_val_score(model,x,y,cv=Kfold)\n",
    "resultB=results.mean()\n",
    "print(resultB)"
   ]
  },
  {
   "cell_type": "markdown",
   "metadata": {},
   "source": [
    "## Voting [for k=5]"
   ]
  },
  {
   "cell_type": "code",
   "execution_count": 139,
   "metadata": {},
   "outputs": [
    {
     "name": "stderr",
     "output_type": "stream",
     "text": [
      "C:\\Users\\User\\Anaconda3\\lib\\site-packages\\sklearn\\linear_model\\logistic.py:433: FutureWarning: Default solver will be changed to 'lbfgs' in 0.22. Specify a solver to silence this warning.\n",
      "  FutureWarning)\n",
      "C:\\Users\\User\\Anaconda3\\lib\\site-packages\\sklearn\\linear_model\\logistic.py:433: FutureWarning: Default solver will be changed to 'lbfgs' in 0.22. Specify a solver to silence this warning.\n",
      "  FutureWarning)\n",
      "C:\\Users\\User\\Anaconda3\\lib\\site-packages\\sklearn\\linear_model\\logistic.py:433: FutureWarning: Default solver will be changed to 'lbfgs' in 0.22. Specify a solver to silence this warning.\n",
      "  FutureWarning)\n",
      "C:\\Users\\User\\Anaconda3\\lib\\site-packages\\sklearn\\linear_model\\logistic.py:433: FutureWarning: Default solver will be changed to 'lbfgs' in 0.22. Specify a solver to silence this warning.\n",
      "  FutureWarning)\n",
      "C:\\Users\\User\\Anaconda3\\lib\\site-packages\\sklearn\\linear_model\\logistic.py:433: FutureWarning: Default solver will be changed to 'lbfgs' in 0.22. Specify a solver to silence this warning.\n",
      "  FutureWarning)\n",
      "C:\\Users\\User\\Anaconda3\\lib\\site-packages\\sklearn\\linear_model\\logistic.py:433: FutureWarning: Default solver will be changed to 'lbfgs' in 0.22. Specify a solver to silence this warning.\n",
      "  FutureWarning)\n",
      "C:\\Users\\User\\Anaconda3\\lib\\site-packages\\sklearn\\linear_model\\logistic.py:433: FutureWarning: Default solver will be changed to 'lbfgs' in 0.22. Specify a solver to silence this warning.\n",
      "  FutureWarning)\n",
      "C:\\Users\\User\\Anaconda3\\lib\\site-packages\\sklearn\\linear_model\\logistic.py:433: FutureWarning: Default solver will be changed to 'lbfgs' in 0.22. Specify a solver to silence this warning.\n",
      "  FutureWarning)\n",
      "C:\\Users\\User\\Anaconda3\\lib\\site-packages\\sklearn\\linear_model\\logistic.py:433: FutureWarning: Default solver will be changed to 'lbfgs' in 0.22. Specify a solver to silence this warning.\n",
      "  FutureWarning)\n"
     ]
    },
    {
     "name": "stdout",
     "output_type": "stream",
     "text": [
      "0.8225149602049135\n"
     ]
    },
    {
     "name": "stderr",
     "output_type": "stream",
     "text": [
      "C:\\Users\\User\\Anaconda3\\lib\\site-packages\\sklearn\\linear_model\\logistic.py:433: FutureWarning: Default solver will be changed to 'lbfgs' in 0.22. Specify a solver to silence this warning.\n",
      "  FutureWarning)\n"
     ]
    }
   ],
   "source": [
    "estimators=[]\n",
    "model1=LG()\n",
    "estimators.append(('logistic',model1))\n",
    "model2=DTC()\n",
    "estimators.append(('tree',model2))\n",
    "model3=KNC()\n",
    "estimators.append(('cneifgbor',model3))\n",
    "model4=GB()\n",
    "estimators.append(('bayes',model4))\n",
    "ensemble=VC(estimators)\n",
    "results=model_selection.cross_val_score(ensemble,x,y,cv=Kfold)\n",
    "resultV=results.mean()\n",
    "print(resultV)"
   ]
  },
  {
   "cell_type": "code",
   "execution_count": 140,
   "metadata": {},
   "outputs": [
    {
     "name": "stdout",
     "output_type": "stream",
     "text": [
      "            accuracy\n",
      "Standalone  0.989766\n",
      "bagging     0.986474\n",
      "voting      0.822515\n"
     ]
    }
   ],
   "source": [
    "dff=p.DataFrame(index=['Standalone','bagging','voting'],columns=['accuracy'])\n",
    "lsf=[edf5.iloc[0]['Decision Tree']]\n",
    "lsf.append(resultB)\n",
    "lsf.append(resultV)\n",
    "dff['accuracy']=lsf\n",
    "\n",
    "print(dff)"
   ]
  }
 ],
 "metadata": {
  "kernelspec": {
   "display_name": "Python 3",
   "language": "python",
   "name": "python3"
  },
  "language_info": {
   "codemirror_mode": {
    "name": "ipython",
    "version": 3
   },
   "file_extension": ".py",
   "mimetype": "text/x-python",
   "name": "python",
   "nbconvert_exporter": "python",
   "pygments_lexer": "ipython3",
   "version": "3.7.3"
  },
  "widgets": {
   "application/vnd.jupyter.widget-state+json": {
    "state": {},
    "version_major": 2,
    "version_minor": 0
   }
  }
 },
 "nbformat": 4,
 "nbformat_minor": 2
}
